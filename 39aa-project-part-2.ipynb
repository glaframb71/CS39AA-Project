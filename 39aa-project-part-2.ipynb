{
 "cells": [
  {
   "cell_type": "markdown",
   "id": "e6095976",
   "metadata": {
    "papermill": {
     "duration": 0.00555,
     "end_time": "2023-11-21T17:59:45.486575",
     "exception": false,
     "start_time": "2023-11-21T17:59:45.481025",
     "status": "completed"
    },
    "tags": []
   },
   "source": [
    "# 39AA Project Part 2\n",
    "[![Kaggle](https://kaggle.com/static/images/open-in-kaggle.svg)](https://kaggle.com/kernels/welcome?src=https://github.com/glaframb71/CS39AA-Project/blob/main/39aa-project.ipynb)\n"
   ]
  },
  {
   "cell_type": "code",
   "execution_count": 1,
   "id": "f0befafe",
   "metadata": {
    "_cell_guid": "b1076dfc-b9ad-4769-8c92-a6c4dae69d19",
    "_uuid": "8f2839f25d086af736a60e9eeb907d3b93b6e0e5",
    "execution": {
     "iopub.execute_input": "2023-11-21T17:59:45.500161Z",
     "iopub.status.busy": "2023-11-21T17:59:45.499351Z",
     "iopub.status.idle": "2023-11-21T17:59:46.942103Z",
     "shell.execute_reply": "2023-11-21T17:59:46.941029Z"
    },
    "papermill": {
     "duration": 1.452032,
     "end_time": "2023-11-21T17:59:46.944951",
     "exception": false,
     "start_time": "2023-11-21T17:59:45.492919",
     "status": "completed"
    },
    "tags": []
   },
   "outputs": [],
   "source": [
    "import numpy as np # linear algebra\n",
    "import pandas as pd # data processing, CSV file I/O (e.g. pd.read_csv)\n",
    "from sklearn.model_selection import train_test_split\n",
    "from sklearn.feature_extraction.text import TfidfVectorizer"
   ]
  },
  {
   "cell_type": "markdown",
   "id": "c910f61a",
   "metadata": {
    "papermill": {
     "duration": 0.004106,
     "end_time": "2023-11-21T17:59:46.953507",
     "exception": false,
     "start_time": "2023-11-21T17:59:46.949401",
     "status": "completed"
    },
    "tags": []
   },
   "source": [
    "Lets import our players data..."
   ]
  },
  {
   "cell_type": "code",
   "execution_count": 2,
   "id": "c7d11a1e",
   "metadata": {
    "execution": {
     "iopub.execute_input": "2023-11-21T17:59:46.964638Z",
     "iopub.status.busy": "2023-11-21T17:59:46.963761Z",
     "iopub.status.idle": "2023-11-21T17:59:47.465703Z",
     "shell.execute_reply": "2023-11-21T17:59:47.464651Z"
    },
    "papermill": {
     "duration": 0.510223,
     "end_time": "2023-11-21T17:59:47.467925",
     "exception": false,
     "start_time": "2023-11-21T17:59:46.957702",
     "status": "completed"
    },
    "tags": []
   },
   "outputs": [
    {
     "data": {
      "text/html": [
       "<div>\n",
       "<style scoped>\n",
       "    .dataframe tbody tr th:only-of-type {\n",
       "        vertical-align: middle;\n",
       "    }\n",
       "\n",
       "    .dataframe tbody tr th {\n",
       "        vertical-align: top;\n",
       "    }\n",
       "\n",
       "    .dataframe thead th {\n",
       "        text-align: right;\n",
       "    }\n",
       "</style>\n",
       "<table border=\"1\" class=\"dataframe\">\n",
       "  <thead>\n",
       "    <tr style=\"text-align: right;\">\n",
       "      <th></th>\n",
       "      <th>nflId</th>\n",
       "      <th>height</th>\n",
       "      <th>weight</th>\n",
       "      <th>birthDate</th>\n",
       "      <th>collegeName</th>\n",
       "      <th>position</th>\n",
       "      <th>displayName</th>\n",
       "    </tr>\n",
       "  </thead>\n",
       "  <tbody>\n",
       "    <tr>\n",
       "      <th>0</th>\n",
       "      <td>25511</td>\n",
       "      <td>6-4</td>\n",
       "      <td>225</td>\n",
       "      <td>1977-08-03</td>\n",
       "      <td>Michigan</td>\n",
       "      <td>QB</td>\n",
       "      <td>Tom Brady</td>\n",
       "    </tr>\n",
       "    <tr>\n",
       "      <th>1</th>\n",
       "      <td>29550</td>\n",
       "      <td>6-4</td>\n",
       "      <td>328</td>\n",
       "      <td>1982-01-22</td>\n",
       "      <td>Arkansas</td>\n",
       "      <td>T</td>\n",
       "      <td>Jason Peters</td>\n",
       "    </tr>\n",
       "    <tr>\n",
       "      <th>2</th>\n",
       "      <td>29851</td>\n",
       "      <td>6-2</td>\n",
       "      <td>225</td>\n",
       "      <td>1983-12-02</td>\n",
       "      <td>California</td>\n",
       "      <td>QB</td>\n",
       "      <td>Aaron Rodgers</td>\n",
       "    </tr>\n",
       "    <tr>\n",
       "      <th>3</th>\n",
       "      <td>30842</td>\n",
       "      <td>6-6</td>\n",
       "      <td>267</td>\n",
       "      <td>1984-05-19</td>\n",
       "      <td>UCLA</td>\n",
       "      <td>TE</td>\n",
       "      <td>Marcedes Lewis</td>\n",
       "    </tr>\n",
       "    <tr>\n",
       "      <th>4</th>\n",
       "      <td>33084</td>\n",
       "      <td>6-4</td>\n",
       "      <td>217</td>\n",
       "      <td>1985-05-17</td>\n",
       "      <td>Boston College</td>\n",
       "      <td>QB</td>\n",
       "      <td>Matt Ryan</td>\n",
       "    </tr>\n",
       "    <tr>\n",
       "      <th>5</th>\n",
       "      <td>33099</td>\n",
       "      <td>6-6</td>\n",
       "      <td>245</td>\n",
       "      <td>1985-01-16</td>\n",
       "      <td>Delaware</td>\n",
       "      <td>QB</td>\n",
       "      <td>Joe Flacco</td>\n",
       "    </tr>\n",
       "    <tr>\n",
       "      <th>6</th>\n",
       "      <td>33107</td>\n",
       "      <td>6-4</td>\n",
       "      <td>315</td>\n",
       "      <td>1985-08-30</td>\n",
       "      <td>Virginia Tech</td>\n",
       "      <td>T</td>\n",
       "      <td>Duane Brown</td>\n",
       "    </tr>\n",
       "    <tr>\n",
       "      <th>7</th>\n",
       "      <td>33130</td>\n",
       "      <td>5-10</td>\n",
       "      <td>175</td>\n",
       "      <td>1986-12-01</td>\n",
       "      <td>California</td>\n",
       "      <td>WR</td>\n",
       "      <td>DeSean Jackson</td>\n",
       "    </tr>\n",
       "    <tr>\n",
       "      <th>8</th>\n",
       "      <td>33131</td>\n",
       "      <td>6-8</td>\n",
       "      <td>300</td>\n",
       "      <td>1986-09-01</td>\n",
       "      <td>Miami</td>\n",
       "      <td>DE</td>\n",
       "      <td>Calais Campbell</td>\n",
       "    </tr>\n",
       "    <tr>\n",
       "      <th>9</th>\n",
       "      <td>33138</td>\n",
       "      <td>6-3</td>\n",
       "      <td>222</td>\n",
       "      <td>1985-07-02</td>\n",
       "      <td>Michigan</td>\n",
       "      <td>QB</td>\n",
       "      <td>Chad Henne</td>\n",
       "    </tr>\n",
       "  </tbody>\n",
       "</table>\n",
       "</div>"
      ],
      "text/plain": [
       "   nflId height  weight   birthDate     collegeName position      displayName\n",
       "0  25511    6-4     225  1977-08-03        Michigan       QB        Tom Brady\n",
       "1  29550    6-4     328  1982-01-22        Arkansas        T     Jason Peters\n",
       "2  29851    6-2     225  1983-12-02      California       QB    Aaron Rodgers\n",
       "3  30842    6-6     267  1984-05-19            UCLA       TE   Marcedes Lewis\n",
       "4  33084    6-4     217  1985-05-17  Boston College       QB        Matt Ryan\n",
       "5  33099    6-6     245  1985-01-16        Delaware       QB       Joe Flacco\n",
       "6  33107    6-4     315  1985-08-30   Virginia Tech        T      Duane Brown\n",
       "7  33130   5-10     175  1986-12-01      California       WR   DeSean Jackson\n",
       "8  33131    6-8     300  1986-09-01           Miami       DE  Calais Campbell\n",
       "9  33138    6-3     222  1985-07-02        Michigan       QB       Chad Henne"
      ]
     },
     "execution_count": 2,
     "metadata": {},
     "output_type": "execute_result"
    }
   ],
   "source": [
    "playersDataUrl = \"https://raw.githubusercontent.com/glaframb71/CS39AA-Project/main/data/players.csv\"\n",
    "playersData = pd.read_csv(playersDataUrl)\n",
    "\n",
    "playersData.head(10)"
   ]
  },
  {
   "cell_type": "markdown",
   "id": "d7f7370d",
   "metadata": {
    "papermill": {
     "duration": 0.004625,
     "end_time": "2023-11-21T17:59:47.477532",
     "exception": false,
     "start_time": "2023-11-21T17:59:47.472907",
     "status": "completed"
    },
    "tags": []
   },
   "source": [
    "Great! The only thing missing from the DataFrame is a column that converts the 'height' column, which currently represents player heights in feet as strings, into a 'height_inches' column that represents player heights in inches as ints."
   ]
  },
  {
   "cell_type": "code",
   "execution_count": 3,
   "id": "6de8c72c",
   "metadata": {
    "execution": {
     "iopub.execute_input": "2023-11-21T17:59:47.490109Z",
     "iopub.status.busy": "2023-11-21T17:59:47.489426Z",
     "iopub.status.idle": "2023-11-21T17:59:47.514542Z",
     "shell.execute_reply": "2023-11-21T17:59:47.513460Z"
    },
    "papermill": {
     "duration": 0.033861,
     "end_time": "2023-11-21T17:59:47.516833",
     "exception": false,
     "start_time": "2023-11-21T17:59:47.482972",
     "status": "completed"
    },
    "tags": []
   },
   "outputs": [
    {
     "data": {
      "text/html": [
       "<div>\n",
       "<style scoped>\n",
       "    .dataframe tbody tr th:only-of-type {\n",
       "        vertical-align: middle;\n",
       "    }\n",
       "\n",
       "    .dataframe tbody tr th {\n",
       "        vertical-align: top;\n",
       "    }\n",
       "\n",
       "    .dataframe thead th {\n",
       "        text-align: right;\n",
       "    }\n",
       "</style>\n",
       "<table border=\"1\" class=\"dataframe\">\n",
       "  <thead>\n",
       "    <tr style=\"text-align: right;\">\n",
       "      <th></th>\n",
       "      <th>nflId</th>\n",
       "      <th>height</th>\n",
       "      <th>height_inches</th>\n",
       "      <th>weight</th>\n",
       "      <th>birthDate</th>\n",
       "      <th>collegeName</th>\n",
       "      <th>position</th>\n",
       "      <th>displayName</th>\n",
       "    </tr>\n",
       "  </thead>\n",
       "  <tbody>\n",
       "    <tr>\n",
       "      <th>0</th>\n",
       "      <td>25511</td>\n",
       "      <td>6-4</td>\n",
       "      <td>76</td>\n",
       "      <td>225</td>\n",
       "      <td>1977-08-03</td>\n",
       "      <td>Michigan</td>\n",
       "      <td>QB</td>\n",
       "      <td>Tom Brady</td>\n",
       "    </tr>\n",
       "    <tr>\n",
       "      <th>1</th>\n",
       "      <td>29550</td>\n",
       "      <td>6-4</td>\n",
       "      <td>76</td>\n",
       "      <td>328</td>\n",
       "      <td>1982-01-22</td>\n",
       "      <td>Arkansas</td>\n",
       "      <td>T</td>\n",
       "      <td>Jason Peters</td>\n",
       "    </tr>\n",
       "    <tr>\n",
       "      <th>2</th>\n",
       "      <td>29851</td>\n",
       "      <td>6-2</td>\n",
       "      <td>74</td>\n",
       "      <td>225</td>\n",
       "      <td>1983-12-02</td>\n",
       "      <td>California</td>\n",
       "      <td>QB</td>\n",
       "      <td>Aaron Rodgers</td>\n",
       "    </tr>\n",
       "    <tr>\n",
       "      <th>3</th>\n",
       "      <td>30842</td>\n",
       "      <td>6-6</td>\n",
       "      <td>78</td>\n",
       "      <td>267</td>\n",
       "      <td>1984-05-19</td>\n",
       "      <td>UCLA</td>\n",
       "      <td>TE</td>\n",
       "      <td>Marcedes Lewis</td>\n",
       "    </tr>\n",
       "    <tr>\n",
       "      <th>4</th>\n",
       "      <td>33084</td>\n",
       "      <td>6-4</td>\n",
       "      <td>76</td>\n",
       "      <td>217</td>\n",
       "      <td>1985-05-17</td>\n",
       "      <td>Boston College</td>\n",
       "      <td>QB</td>\n",
       "      <td>Matt Ryan</td>\n",
       "    </tr>\n",
       "  </tbody>\n",
       "</table>\n",
       "</div>"
      ],
      "text/plain": [
       "   nflId height  height_inches  weight   birthDate     collegeName position  \\\n",
       "0  25511    6-4             76     225  1977-08-03        Michigan       QB   \n",
       "1  29550    6-4             76     328  1982-01-22        Arkansas        T   \n",
       "2  29851    6-2             74     225  1983-12-02      California       QB   \n",
       "3  30842    6-6             78     267  1984-05-19            UCLA       TE   \n",
       "4  33084    6-4             76     217  1985-05-17  Boston College       QB   \n",
       "\n",
       "      displayName  \n",
       "0       Tom Brady  \n",
       "1    Jason Peters  \n",
       "2   Aaron Rodgers  \n",
       "3  Marcedes Lewis  \n",
       "4       Matt Ryan  "
      ]
     },
     "execution_count": 3,
     "metadata": {},
     "output_type": "execute_result"
    }
   ],
   "source": [
    "# First we will add in the height_inches column to playersData and slot it next to the height column.\n",
    "playersData = playersData.copy()\n",
    "playersData.loc[:, 'height_inches'] = playersData['height'].apply(lambda x: int(x.split('-')[0]) * 12 + int(x.split('-')[1]))\n",
    "height_index = playersData.columns.get_loc('height')\n",
    "playersData.insert(height_index + 1, \"height_inches\", playersData.pop(\"height_inches\"))\n",
    "\n",
    "playersData.head()"
   ]
  },
  {
   "cell_type": "markdown",
   "id": "9fc64757",
   "metadata": {
    "papermill": {
     "duration": 0.004659,
     "end_time": "2023-11-21T17:59:47.526744",
     "exception": false,
     "start_time": "2023-11-21T17:59:47.522085",
     "status": "completed"
    },
    "tags": []
   },
   "source": [
    "Now that the 'height_inches' column has been made, lets clean up the DataFrame to hold only the columns that are relevant to the task we are looking to accomplish."
   ]
  },
  {
   "cell_type": "code",
   "execution_count": 4,
   "id": "e95f94a9",
   "metadata": {
    "execution": {
     "iopub.execute_input": "2023-11-21T17:59:47.538799Z",
     "iopub.status.busy": "2023-11-21T17:59:47.538184Z",
     "iopub.status.idle": "2023-11-21T17:59:47.554306Z",
     "shell.execute_reply": "2023-11-21T17:59:47.553175Z"
    },
    "papermill": {
     "duration": 0.024643,
     "end_time": "2023-11-21T17:59:47.556551",
     "exception": false,
     "start_time": "2023-11-21T17:59:47.531908",
     "status": "completed"
    },
    "tags": []
   },
   "outputs": [
    {
     "data": {
      "text/html": [
       "<div>\n",
       "<style scoped>\n",
       "    .dataframe tbody tr th:only-of-type {\n",
       "        vertical-align: middle;\n",
       "    }\n",
       "\n",
       "    .dataframe tbody tr th {\n",
       "        vertical-align: top;\n",
       "    }\n",
       "\n",
       "    .dataframe thead th {\n",
       "        text-align: right;\n",
       "    }\n",
       "</style>\n",
       "<table border=\"1\" class=\"dataframe\">\n",
       "  <thead>\n",
       "    <tr style=\"text-align: right;\">\n",
       "      <th></th>\n",
       "      <th>height_inches</th>\n",
       "      <th>weight</th>\n",
       "      <th>collegeName</th>\n",
       "      <th>position</th>\n",
       "    </tr>\n",
       "  </thead>\n",
       "  <tbody>\n",
       "    <tr>\n",
       "      <th>0</th>\n",
       "      <td>76</td>\n",
       "      <td>225</td>\n",
       "      <td>Michigan</td>\n",
       "      <td>QB</td>\n",
       "    </tr>\n",
       "    <tr>\n",
       "      <th>1</th>\n",
       "      <td>76</td>\n",
       "      <td>328</td>\n",
       "      <td>Arkansas</td>\n",
       "      <td>T</td>\n",
       "    </tr>\n",
       "    <tr>\n",
       "      <th>2</th>\n",
       "      <td>74</td>\n",
       "      <td>225</td>\n",
       "      <td>California</td>\n",
       "      <td>QB</td>\n",
       "    </tr>\n",
       "    <tr>\n",
       "      <th>3</th>\n",
       "      <td>78</td>\n",
       "      <td>267</td>\n",
       "      <td>UCLA</td>\n",
       "      <td>TE</td>\n",
       "    </tr>\n",
       "    <tr>\n",
       "      <th>4</th>\n",
       "      <td>76</td>\n",
       "      <td>217</td>\n",
       "      <td>Boston College</td>\n",
       "      <td>QB</td>\n",
       "    </tr>\n",
       "  </tbody>\n",
       "</table>\n",
       "</div>"
      ],
      "text/plain": [
       "   height_inches  weight     collegeName position\n",
       "0             76     225        Michigan       QB\n",
       "1             76     328        Arkansas        T\n",
       "2             74     225      California       QB\n",
       "3             78     267            UCLA       TE\n",
       "4             76     217  Boston College       QB"
      ]
     },
     "execution_count": 4,
     "metadata": {},
     "output_type": "execute_result"
    }
   ],
   "source": [
    "players = playersData[['height_inches', 'weight', 'collegeName', 'position']]\n",
    "\n",
    "players.head()"
   ]
  },
  {
   "cell_type": "markdown",
   "id": "8591672f",
   "metadata": {
    "papermill": {
     "duration": 0.005013,
     "end_time": "2023-11-21T17:59:47.566904",
     "exception": false,
     "start_time": "2023-11-21T17:59:47.561891",
     "status": "completed"
    },
    "tags": []
   },
   "source": [
    "Now that we have our data imported and cleaned up, let's split up our data set into a raw training set and a validation set."
   ]
  },
  {
   "cell_type": "code",
   "execution_count": 5,
   "id": "32b0881e",
   "metadata": {
    "execution": {
     "iopub.execute_input": "2023-11-21T17:59:47.579347Z",
     "iopub.status.busy": "2023-11-21T17:59:47.578235Z",
     "iopub.status.idle": "2023-11-21T17:59:47.587897Z",
     "shell.execute_reply": "2023-11-21T17:59:47.587116Z"
    },
    "papermill": {
     "duration": 0.018042,
     "end_time": "2023-11-21T17:59:47.589969",
     "exception": false,
     "start_time": "2023-11-21T17:59:47.571927",
     "status": "completed"
    },
    "tags": []
   },
   "outputs": [],
   "source": [
    "X = players[['height_inches', 'weight', 'collegeName']].copy()\n",
    "y = players['position'].copy()\n",
    "X.head()\n",
    "y.head()\n",
    "X_train_raw, X_val_raw, y_train, y_val = train_test_split(X, y, test_size=0.20, random_state=42)"
   ]
  },
  {
   "cell_type": "markdown",
   "id": "61a183b2",
   "metadata": {
    "papermill": {
     "duration": 0.004851,
     "end_time": "2023-11-21T17:59:47.600102",
     "exception": false,
     "start_time": "2023-11-21T17:59:47.595251",
     "status": "completed"
    },
    "tags": []
   },
   "source": [
    "One-hot encode the 'collegeName' column of the X train and val data sets"
   ]
  },
  {
   "cell_type": "code",
   "execution_count": 6,
   "id": "eba0dbe6",
   "metadata": {
    "execution": {
     "iopub.execute_input": "2023-11-21T17:59:47.612712Z",
     "iopub.status.busy": "2023-11-21T17:59:47.611991Z",
     "iopub.status.idle": "2023-11-21T17:59:47.631951Z",
     "shell.execute_reply": "2023-11-21T17:59:47.630872Z"
    },
    "papermill": {
     "duration": 0.02919,
     "end_time": "2023-11-21T17:59:47.634466",
     "exception": false,
     "start_time": "2023-11-21T17:59:47.605276",
     "status": "completed"
    },
    "tags": []
   },
   "outputs": [
    {
     "name": "stdout",
     "output_type": "stream",
     "text": [
      "X_train_encoded Shape:\n",
      "(1346, 228)\n",
      "\n",
      "X_val_encoded Shape:\n"
     ]
    },
    {
     "data": {
      "text/plain": [
       "(337, 228)"
      ]
     },
     "execution_count": 6,
     "metadata": {},
     "output_type": "execute_result"
    }
   ],
   "source": [
    "# Assuming X_train_raw and X_val_raw are your training and validation sets\n",
    "# Concatenate the training and validation sets to ensure consistent one-hot encoding\n",
    "combined_data = pd.concat([X_train_raw, X_val_raw])\n",
    "\n",
    "# Perform one-hot encoding on the 'collegeName' column\n",
    "combined_data_encoded = pd.get_dummies(combined_data, columns=['collegeName'])\n",
    "\n",
    "# Split the combined data back into training and validation sets\n",
    "X_train_encoded = combined_data_encoded[:len(X_train_raw)]\n",
    "X_val_encoded = combined_data_encoded[len(X_train_raw):]\n",
    "\n",
    "print(\"X_train_encoded Shape:\")\n",
    "print(X_train_encoded.shape)\n",
    "\n",
    "print(\"\\nX_val_encoded Shape:\")\n",
    "X_val_encoded.shape\n"
   ]
  },
  {
   "cell_type": "code",
   "execution_count": 7,
   "id": "e1fac7de",
   "metadata": {
    "execution": {
     "iopub.execute_input": "2023-11-21T17:59:47.647217Z",
     "iopub.status.busy": "2023-11-21T17:59:47.646455Z",
     "iopub.status.idle": "2023-11-21T17:59:47.657426Z",
     "shell.execute_reply": "2023-11-21T17:59:47.656029Z"
    },
    "papermill": {
     "duration": 0.01983,
     "end_time": "2023-11-21T17:59:47.659683",
     "exception": false,
     "start_time": "2023-11-21T17:59:47.639853",
     "status": "completed"
    },
    "tags": []
   },
   "outputs": [
    {
     "name": "stdout",
     "output_type": "stream",
     "text": [
      "y_train_encoded Shape:\n",
      "(1346, 19)\n",
      "y_val_encoded Shape:\n",
      "(337, 19)\n"
     ]
    }
   ],
   "source": [
    "# Assuming y_train and y_val are your target variables for the training and validation sets\n",
    "# Concatenate the training and validation target variables to ensure consistent one-hot encoding\n",
    "combined_target = pd.concat([y_train, y_val])\n",
    "\n",
    "# Perform one-hot encoding on the 'position' column\n",
    "combined_target_encoded = pd.get_dummies(combined_target, columns=['position'])\n",
    "\n",
    "# Split the combined target back into training and validation sets\n",
    "y_train_encoded = combined_target_encoded[:len(y_train)]\n",
    "y_val_encoded = combined_target_encoded[len(y_train):]\n",
    "\n",
    "# Now y_train_encoded and y_val_encoded contain the one-hot encoded 'position' column\n",
    "\n",
    "print(\"y_train_encoded Shape:\")\n",
    "print(y_train_encoded.shape)\n",
    "\n",
    "print(\"y_val_encoded Shape:\")\n",
    "print(y_val_encoded.shape)"
   ]
  }
 ],
 "metadata": {
  "kaggle": {
   "accelerator": "none",
   "dataSources": [],
   "dockerImageVersionId": 30587,
   "isGpuEnabled": false,
   "isInternetEnabled": true,
   "language": "python",
   "sourceType": "notebook"
  },
  "kernelspec": {
   "display_name": "Python 3",
   "language": "python",
   "name": "python3"
  },
  "language_info": {
   "codemirror_mode": {
    "name": "ipython",
    "version": 3
   },
   "file_extension": ".py",
   "mimetype": "text/x-python",
   "name": "python",
   "nbconvert_exporter": "python",
   "pygments_lexer": "ipython3",
   "version": "3.10.12"
  },
  "papermill": {
   "default_parameters": {},
   "duration": 6.072177,
   "end_time": "2023-11-21T17:59:48.185210",
   "environment_variables": {},
   "exception": null,
   "input_path": "__notebook__.ipynb",
   "output_path": "__notebook__.ipynb",
   "parameters": {},
   "start_time": "2023-11-21T17:59:42.113033",
   "version": "2.4.0"
  }
 },
 "nbformat": 4,
 "nbformat_minor": 5
}
