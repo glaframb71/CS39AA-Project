{
 "cells": [
  {
   "cell_type": "markdown",
   "id": "0f6190ca",
   "metadata": {
    "papermill": {
     "duration": 0.0043,
     "end_time": "2023-11-26T06:55:38.471028",
     "exception": false,
     "start_time": "2023-11-26T06:55:38.466728",
     "status": "completed"
    },
    "tags": []
   },
   "source": [
    "# 39AA Project Part 2\n",
    "[![Kaggle](https://kaggle.com/static/images/open-in-kaggle.svg)](https://kaggle.com/kernels/welcome?src=https://github.com/glaframb71/CS39AA-Project/blob/main/39aa-project.ipynb)\n"
   ]
  },
  {
   "cell_type": "markdown",
   "id": "211cb9bd",
   "metadata": {
    "papermill": {
     "duration": 0.003591,
     "end_time": "2023-11-26T06:55:38.480413",
     "exception": false,
     "start_time": "2023-11-26T06:55:38.476822",
     "status": "completed"
    },
    "tags": []
   },
   "source": [
    "<font size=3>Welcome to Part 2 of my 39AA Project! In this notebook, we will be taking the dataset that was explored in Part 1 and trying to complete our task of predicting an athlete's football position based on their height, weight, and college. Let's get started by importing a few packages we will use in this notebook.</font>"
   ]
  },
  {
   "cell_type": "code",
   "execution_count": 1,
   "id": "8def33b3",
   "metadata": {
    "_cell_guid": "b1076dfc-b9ad-4769-8c92-a6c4dae69d19",
    "_uuid": "8f2839f25d086af736a60e9eeb907d3b93b6e0e5",
    "execution": {
     "iopub.execute_input": "2023-11-26T06:55:38.489695Z",
     "iopub.status.busy": "2023-11-26T06:55:38.489344Z",
     "iopub.status.idle": "2023-11-26T06:55:40.678715Z",
     "shell.execute_reply": "2023-11-26T06:55:40.677281Z"
    },
    "papermill": {
     "duration": 2.197273,
     "end_time": "2023-11-26T06:55:40.681408",
     "exception": false,
     "start_time": "2023-11-26T06:55:38.484135",
     "status": "completed"
    },
    "tags": []
   },
   "outputs": [],
   "source": [
    "import numpy as np\n",
    "import pandas as pd\n",
    "from sklearn.model_selection import train_test_split\n",
    "from sklearn.feature_extraction.text import TfidfVectorizer\n",
    "from imblearn.over_sampling import SMOTE"
   ]
  },
  {
   "cell_type": "markdown",
   "id": "0221be2d",
   "metadata": {
    "papermill": {
     "duration": 0.003478,
     "end_time": "2023-11-26T06:55:40.689150",
     "exception": false,
     "start_time": "2023-11-26T06:55:40.685672",
     "status": "completed"
    },
    "tags": []
   },
   "source": [
    "<font size='3'>Now lets import the players data from the project GitHub.</font>"
   ]
  },
  {
   "cell_type": "code",
   "execution_count": 2,
   "id": "6de3175c",
   "metadata": {
    "execution": {
     "iopub.execute_input": "2023-11-26T06:55:40.698309Z",
     "iopub.status.busy": "2023-11-26T06:55:40.697784Z",
     "iopub.status.idle": "2023-11-26T06:55:40.832748Z",
     "shell.execute_reply": "2023-11-26T06:55:40.831821Z"
    },
    "papermill": {
     "duration": 0.142083,
     "end_time": "2023-11-26T06:55:40.834914",
     "exception": false,
     "start_time": "2023-11-26T06:55:40.692831",
     "status": "completed"
    },
    "tags": []
   },
   "outputs": [
    {
     "data": {
      "text/html": [
       "<div>\n",
       "<style scoped>\n",
       "    .dataframe tbody tr th:only-of-type {\n",
       "        vertical-align: middle;\n",
       "    }\n",
       "\n",
       "    .dataframe tbody tr th {\n",
       "        vertical-align: top;\n",
       "    }\n",
       "\n",
       "    .dataframe thead th {\n",
       "        text-align: right;\n",
       "    }\n",
       "</style>\n",
       "<table border=\"1\" class=\"dataframe\">\n",
       "  <thead>\n",
       "    <tr style=\"text-align: right;\">\n",
       "      <th></th>\n",
       "      <th>nflId</th>\n",
       "      <th>height</th>\n",
       "      <th>weight</th>\n",
       "      <th>birthDate</th>\n",
       "      <th>collegeName</th>\n",
       "      <th>position</th>\n",
       "      <th>displayName</th>\n",
       "    </tr>\n",
       "  </thead>\n",
       "  <tbody>\n",
       "    <tr>\n",
       "      <th>0</th>\n",
       "      <td>25511</td>\n",
       "      <td>6-4</td>\n",
       "      <td>225</td>\n",
       "      <td>1977-08-03</td>\n",
       "      <td>Michigan</td>\n",
       "      <td>QB</td>\n",
       "      <td>Tom Brady</td>\n",
       "    </tr>\n",
       "    <tr>\n",
       "      <th>1</th>\n",
       "      <td>29550</td>\n",
       "      <td>6-4</td>\n",
       "      <td>328</td>\n",
       "      <td>1982-01-22</td>\n",
       "      <td>Arkansas</td>\n",
       "      <td>T</td>\n",
       "      <td>Jason Peters</td>\n",
       "    </tr>\n",
       "    <tr>\n",
       "      <th>2</th>\n",
       "      <td>29851</td>\n",
       "      <td>6-2</td>\n",
       "      <td>225</td>\n",
       "      <td>1983-12-02</td>\n",
       "      <td>California</td>\n",
       "      <td>QB</td>\n",
       "      <td>Aaron Rodgers</td>\n",
       "    </tr>\n",
       "    <tr>\n",
       "      <th>3</th>\n",
       "      <td>30842</td>\n",
       "      <td>6-6</td>\n",
       "      <td>267</td>\n",
       "      <td>1984-05-19</td>\n",
       "      <td>UCLA</td>\n",
       "      <td>TE</td>\n",
       "      <td>Marcedes Lewis</td>\n",
       "    </tr>\n",
       "    <tr>\n",
       "      <th>4</th>\n",
       "      <td>33084</td>\n",
       "      <td>6-4</td>\n",
       "      <td>217</td>\n",
       "      <td>1985-05-17</td>\n",
       "      <td>Boston College</td>\n",
       "      <td>QB</td>\n",
       "      <td>Matt Ryan</td>\n",
       "    </tr>\n",
       "  </tbody>\n",
       "</table>\n",
       "</div>"
      ],
      "text/plain": [
       "   nflId height  weight   birthDate     collegeName position     displayName\n",
       "0  25511    6-4     225  1977-08-03        Michigan       QB       Tom Brady\n",
       "1  29550    6-4     328  1982-01-22        Arkansas        T    Jason Peters\n",
       "2  29851    6-2     225  1983-12-02      California       QB   Aaron Rodgers\n",
       "3  30842    6-6     267  1984-05-19            UCLA       TE  Marcedes Lewis\n",
       "4  33084    6-4     217  1985-05-17  Boston College       QB       Matt Ryan"
      ]
     },
     "execution_count": 2,
     "metadata": {},
     "output_type": "execute_result"
    }
   ],
   "source": [
    "playersDataUrl = \"https://raw.githubusercontent.com/glaframb71/CS39AA-Project/main/data/players.csv\"\n",
    "playersData = pd.read_csv(playersDataUrl)\n",
    "\n",
    "playersData.head()"
   ]
  },
  {
   "cell_type": "markdown",
   "id": "2b87a182",
   "metadata": {
    "papermill": {
     "duration": 0.003911,
     "end_time": "2023-11-26T06:55:40.843359",
     "exception": false,
     "start_time": "2023-11-26T06:55:40.839448",
     "status": "completed"
    },
    "tags": []
   },
   "source": [
    "<font size='3'>Great! The only thing missing from the DataFrame is a column that converts the 'height' column, which currently represents player heights in feet as strings, into a 'height_inches' column that represents player heights in inches as ints.</font>"
   ]
  },
  {
   "cell_type": "code",
   "execution_count": 3,
   "id": "6994f3e3",
   "metadata": {
    "execution": {
     "iopub.execute_input": "2023-11-26T06:55:40.853129Z",
     "iopub.status.busy": "2023-11-26T06:55:40.852761Z",
     "iopub.status.idle": "2023-11-26T06:55:40.879384Z",
     "shell.execute_reply": "2023-11-26T06:55:40.877919Z"
    },
    "papermill": {
     "duration": 0.034868,
     "end_time": "2023-11-26T06:55:40.882303",
     "exception": false,
     "start_time": "2023-11-26T06:55:40.847435",
     "status": "completed"
    },
    "tags": []
   },
   "outputs": [
    {
     "data": {
      "text/html": [
       "<div>\n",
       "<style scoped>\n",
       "    .dataframe tbody tr th:only-of-type {\n",
       "        vertical-align: middle;\n",
       "    }\n",
       "\n",
       "    .dataframe tbody tr th {\n",
       "        vertical-align: top;\n",
       "    }\n",
       "\n",
       "    .dataframe thead th {\n",
       "        text-align: right;\n",
       "    }\n",
       "</style>\n",
       "<table border=\"1\" class=\"dataframe\">\n",
       "  <thead>\n",
       "    <tr style=\"text-align: right;\">\n",
       "      <th></th>\n",
       "      <th>nflId</th>\n",
       "      <th>height</th>\n",
       "      <th>height_inches</th>\n",
       "      <th>weight</th>\n",
       "      <th>birthDate</th>\n",
       "      <th>collegeName</th>\n",
       "      <th>position</th>\n",
       "      <th>displayName</th>\n",
       "    </tr>\n",
       "  </thead>\n",
       "  <tbody>\n",
       "    <tr>\n",
       "      <th>0</th>\n",
       "      <td>25511</td>\n",
       "      <td>6-4</td>\n",
       "      <td>76</td>\n",
       "      <td>225</td>\n",
       "      <td>1977-08-03</td>\n",
       "      <td>Michigan</td>\n",
       "      <td>QB</td>\n",
       "      <td>Tom Brady</td>\n",
       "    </tr>\n",
       "    <tr>\n",
       "      <th>1</th>\n",
       "      <td>29550</td>\n",
       "      <td>6-4</td>\n",
       "      <td>76</td>\n",
       "      <td>328</td>\n",
       "      <td>1982-01-22</td>\n",
       "      <td>Arkansas</td>\n",
       "      <td>T</td>\n",
       "      <td>Jason Peters</td>\n",
       "    </tr>\n",
       "    <tr>\n",
       "      <th>2</th>\n",
       "      <td>29851</td>\n",
       "      <td>6-2</td>\n",
       "      <td>74</td>\n",
       "      <td>225</td>\n",
       "      <td>1983-12-02</td>\n",
       "      <td>California</td>\n",
       "      <td>QB</td>\n",
       "      <td>Aaron Rodgers</td>\n",
       "    </tr>\n",
       "    <tr>\n",
       "      <th>3</th>\n",
       "      <td>30842</td>\n",
       "      <td>6-6</td>\n",
       "      <td>78</td>\n",
       "      <td>267</td>\n",
       "      <td>1984-05-19</td>\n",
       "      <td>UCLA</td>\n",
       "      <td>TE</td>\n",
       "      <td>Marcedes Lewis</td>\n",
       "    </tr>\n",
       "    <tr>\n",
       "      <th>4</th>\n",
       "      <td>33084</td>\n",
       "      <td>6-4</td>\n",
       "      <td>76</td>\n",
       "      <td>217</td>\n",
       "      <td>1985-05-17</td>\n",
       "      <td>Boston College</td>\n",
       "      <td>QB</td>\n",
       "      <td>Matt Ryan</td>\n",
       "    </tr>\n",
       "  </tbody>\n",
       "</table>\n",
       "</div>"
      ],
      "text/plain": [
       "   nflId height  height_inches  weight   birthDate     collegeName position  \\\n",
       "0  25511    6-4             76     225  1977-08-03        Michigan       QB   \n",
       "1  29550    6-4             76     328  1982-01-22        Arkansas        T   \n",
       "2  29851    6-2             74     225  1983-12-02      California       QB   \n",
       "3  30842    6-6             78     267  1984-05-19            UCLA       TE   \n",
       "4  33084    6-4             76     217  1985-05-17  Boston College       QB   \n",
       "\n",
       "      displayName  \n",
       "0       Tom Brady  \n",
       "1    Jason Peters  \n",
       "2   Aaron Rodgers  \n",
       "3  Marcedes Lewis  \n",
       "4       Matt Ryan  "
      ]
     },
     "execution_count": 3,
     "metadata": {},
     "output_type": "execute_result"
    }
   ],
   "source": [
    "# First we will add in the height_inches column to playersData and slot it next to the height column.\n",
    "playersData = playersData.copy()\n",
    "playersData.loc[:, 'height_inches'] = playersData['height'].apply(lambda x: int(x.split('-')[0]) * 12 + int(x.split('-')[1]))\n",
    "height_index = playersData.columns.get_loc('height')\n",
    "playersData.insert(height_index + 1, \"height_inches\", playersData.pop(\"height_inches\"))\n",
    "\n",
    "playersData.head()"
   ]
  },
  {
   "cell_type": "markdown",
   "id": "878192d5",
   "metadata": {
    "papermill": {
     "duration": 0.00398,
     "end_time": "2023-11-26T06:55:40.890816",
     "exception": false,
     "start_time": "2023-11-26T06:55:40.886836",
     "status": "completed"
    },
    "tags": []
   },
   "source": [
    "<font size='3'>Now that the 'height_inches' column has been made, lets clean up the DataFrame to hold only the columns that are relevant to the task we are looking to accomplish. As a refresher, these columns will be 'height_inches', 'weight', 'collegeName', and 'position'.</font>"
   ]
  },
  {
   "cell_type": "code",
   "execution_count": 4,
   "id": "32f7dc07",
   "metadata": {
    "execution": {
     "iopub.execute_input": "2023-11-26T06:55:40.901745Z",
     "iopub.status.busy": "2023-11-26T06:55:40.901387Z",
     "iopub.status.idle": "2023-11-26T06:55:40.922062Z",
     "shell.execute_reply": "2023-11-26T06:55:40.920460Z"
    },
    "papermill": {
     "duration": 0.029465,
     "end_time": "2023-11-26T06:55:40.924469",
     "exception": false,
     "start_time": "2023-11-26T06:55:40.895004",
     "status": "completed"
    },
    "tags": []
   },
   "outputs": [
    {
     "data": {
      "text/html": [
       "<div>\n",
       "<style scoped>\n",
       "    .dataframe tbody tr th:only-of-type {\n",
       "        vertical-align: middle;\n",
       "    }\n",
       "\n",
       "    .dataframe tbody tr th {\n",
       "        vertical-align: top;\n",
       "    }\n",
       "\n",
       "    .dataframe thead th {\n",
       "        text-align: right;\n",
       "    }\n",
       "</style>\n",
       "<table border=\"1\" class=\"dataframe\">\n",
       "  <thead>\n",
       "    <tr style=\"text-align: right;\">\n",
       "      <th></th>\n",
       "      <th>height_inches</th>\n",
       "      <th>weight</th>\n",
       "      <th>collegeName</th>\n",
       "      <th>position</th>\n",
       "    </tr>\n",
       "  </thead>\n",
       "  <tbody>\n",
       "    <tr>\n",
       "      <th>0</th>\n",
       "      <td>76</td>\n",
       "      <td>225</td>\n",
       "      <td>Michigan</td>\n",
       "      <td>QB</td>\n",
       "    </tr>\n",
       "    <tr>\n",
       "      <th>1</th>\n",
       "      <td>76</td>\n",
       "      <td>328</td>\n",
       "      <td>Arkansas</td>\n",
       "      <td>T</td>\n",
       "    </tr>\n",
       "    <tr>\n",
       "      <th>2</th>\n",
       "      <td>74</td>\n",
       "      <td>225</td>\n",
       "      <td>California</td>\n",
       "      <td>QB</td>\n",
       "    </tr>\n",
       "    <tr>\n",
       "      <th>3</th>\n",
       "      <td>78</td>\n",
       "      <td>267</td>\n",
       "      <td>UCLA</td>\n",
       "      <td>TE</td>\n",
       "    </tr>\n",
       "    <tr>\n",
       "      <th>4</th>\n",
       "      <td>76</td>\n",
       "      <td>217</td>\n",
       "      <td>Boston College</td>\n",
       "      <td>QB</td>\n",
       "    </tr>\n",
       "  </tbody>\n",
       "</table>\n",
       "</div>"
      ],
      "text/plain": [
       "   height_inches  weight     collegeName position\n",
       "0             76     225        Michigan       QB\n",
       "1             76     328        Arkansas        T\n",
       "2             74     225      California       QB\n",
       "3             78     267            UCLA       TE\n",
       "4             76     217  Boston College       QB"
      ]
     },
     "execution_count": 4,
     "metadata": {},
     "output_type": "execute_result"
    }
   ],
   "source": [
    "players = playersData[['height_inches', 'weight','collegeName', 'position']]\n",
    "\n",
    "players.head()"
   ]
  },
  {
   "cell_type": "markdown",
   "id": "1a35e058",
   "metadata": {
    "papermill": {
     "duration": 0.004441,
     "end_time": "2023-11-26T06:55:40.933889",
     "exception": false,
     "start_time": "2023-11-26T06:55:40.929448",
     "status": "completed"
    },
    "tags": []
   },
   "source": [
    "<font size='3'>Now that we have the players data that was explored in Part 1, we can recall that there was 2 positons that showed up only once in the data. These poisitions were 'DB' and 'LS'. I want to drop these two positions since there isn't very much data to represent these positions. We can do that with the following code.</font>"
   ]
  },
  {
   "cell_type": "code",
   "execution_count": 5,
   "id": "00c0cf9b",
   "metadata": {
    "execution": {
     "iopub.execute_input": "2023-11-26T06:55:40.944653Z",
     "iopub.status.busy": "2023-11-26T06:55:40.944145Z",
     "iopub.status.idle": "2023-11-26T06:55:40.955251Z",
     "shell.execute_reply": "2023-11-26T06:55:40.953400Z"
    },
    "papermill": {
     "duration": 0.019692,
     "end_time": "2023-11-26T06:55:40.957887",
     "exception": false,
     "start_time": "2023-11-26T06:55:40.938195",
     "status": "completed"
    },
    "tags": []
   },
   "outputs": [
    {
     "name": "stdout",
     "output_type": "stream",
     "text": [
      "Players shape before filter:\n",
      "(1683, 4)\n",
      "Players shape after filter:\n",
      "(1681, 4)\n"
     ]
    }
   ],
   "source": [
    "print('Players shape before filter:')\n",
    "print(players.shape)\n",
    "positions_to_drop = ['DB', 'LS']\n",
    "filtered_players = players[~players['position'].isin(positions_to_drop)]\n",
    "print('Players shape after filter:')\n",
    "print(filtered_players.shape)"
   ]
  },
  {
   "cell_type": "markdown",
   "id": "aa5368e3",
   "metadata": {
    "papermill": {
     "duration": 0.005295,
     "end_time": "2023-11-26T06:55:40.968064",
     "exception": false,
     "start_time": "2023-11-26T06:55:40.962769",
     "status": "completed"
    },
    "tags": []
   },
   "source": [
    "<font size='3'>We now have our DataFrame holding the relevant information that is needed. Let's split up our data into X and y training and validation sets using the method **train_test_split** imported from sklearn.model_selection.</font>"
   ]
  },
  {
   "cell_type": "code",
   "execution_count": 6,
   "id": "b221cfc1",
   "metadata": {
    "execution": {
     "iopub.execute_input": "2023-11-26T06:55:40.979361Z",
     "iopub.status.busy": "2023-11-26T06:55:40.978864Z",
     "iopub.status.idle": "2023-11-26T06:55:40.985833Z",
     "shell.execute_reply": "2023-11-26T06:55:40.984261Z"
    },
    "papermill": {
     "duration": 0.016035,
     "end_time": "2023-11-26T06:55:40.988852",
     "exception": false,
     "start_time": "2023-11-26T06:55:40.972817",
     "status": "completed"
    },
    "tags": []
   },
   "outputs": [],
   "source": [
    "X = filtered_players.drop('position', axis=1)\n",
    "y = filtered_players['position']\n"
   ]
  },
  {
   "cell_type": "code",
   "execution_count": 7,
   "id": "ebe4231d",
   "metadata": {
    "execution": {
     "iopub.execute_input": "2023-11-26T06:55:41.000025Z",
     "iopub.status.busy": "2023-11-26T06:55:40.999639Z",
     "iopub.status.idle": "2023-11-26T06:55:41.024574Z",
     "shell.execute_reply": "2023-11-26T06:55:41.023432Z"
    },
    "papermill": {
     "duration": 0.033293,
     "end_time": "2023-11-26T06:55:41.026974",
     "exception": false,
     "start_time": "2023-11-26T06:55:40.993681",
     "status": "completed"
    },
    "tags": []
   },
   "outputs": [],
   "source": [
    "# Split the data into training and validation sets\n",
    "X_train, X_val, y_train, y_val = train_test_split(X, y, test_size=0.2, random_state=5)\n",
    "\n",
    "# Keep a copy of the unencoded validation set\n",
    "X_val_raw = X_val.copy()\n",
    "\n",
    "# Perform one-hot encoding on the training set\n",
    "X_train_encoded = pd.get_dummies(X_train, columns=['collegeName'])\n",
    "\n",
    "# Get the encoded column names from the training set\n",
    "encoded_columns = X_train_encoded.columns\n",
    "\n",
    "# Perform one-hot encoding on the validation set\n",
    "X_val_encoded = pd.get_dummies(X_val, columns=['collegeName'])\n",
    "\n",
    "missing_cols = set(X_train_encoded.columns) - set(X_val_encoded.columns)\n",
    "\n",
    "# Create a DataFrame of zeros for the missing columns\n",
    "missing_cols_df = pd.DataFrame(0, index=X_val_encoded.index, columns=list(missing_cols))\n",
    "\n",
    "# Concatenate the original DataFrame with the DataFrame of missing columns\n",
    "X_val_encoded = pd.concat([X_val_encoded, missing_cols_df], axis=1)\n",
    "\n",
    "# Ensure the order of column in the validation set is the same as in training set\n",
    "X_val_encoded = X_val_encoded[encoded_columns]\n"
   ]
  },
  {
   "cell_type": "code",
   "execution_count": 8,
   "id": "546f8e6d",
   "metadata": {
    "execution": {
     "iopub.execute_input": "2023-11-26T06:55:41.037673Z",
     "iopub.status.busy": "2023-11-26T06:55:41.037300Z",
     "iopub.status.idle": "2023-11-26T06:55:41.119107Z",
     "shell.execute_reply": "2023-11-26T06:55:41.118023Z"
    },
    "papermill": {
     "duration": 0.090103,
     "end_time": "2023-11-26T06:55:41.121888",
     "exception": false,
     "start_time": "2023-11-26T06:55:41.031785",
     "status": "completed"
    },
    "tags": []
   },
   "outputs": [],
   "source": [
    "smote = SMOTE(sampling_strategy='not majority', k_neighbors=1) # or any number less than 5\n",
    "X_train_resampled, y_train_resampled = smote.fit_resample(X_train_encoded, y_train)"
   ]
  },
  {
   "cell_type": "markdown",
   "id": "c0943c41",
   "metadata": {
    "papermill": {
     "duration": 0.005337,
     "end_time": "2023-11-26T06:55:41.133097",
     "exception": false,
     "start_time": "2023-11-26T06:55:41.127760",
     "status": "completed"
    },
    "tags": []
   },
   "source": [
    "<font size='3'>Sweet! We have split our dataset into training and validation sets. Now, to make our data more compatible with machine learning algorithms, let's convert the 'collegeName' column in our X taining and validation sets into a numerical format using one-hot encoding.</font>"
   ]
  },
  {
   "cell_type": "code",
   "execution_count": 9,
   "id": "b32ace00",
   "metadata": {
    "execution": {
     "iopub.execute_input": "2023-11-26T06:55:41.147260Z",
     "iopub.status.busy": "2023-11-26T06:55:41.146346Z",
     "iopub.status.idle": "2023-11-26T06:56:02.617615Z",
     "shell.execute_reply": "2023-11-26T06:56:02.616698Z"
    },
    "papermill": {
     "duration": 21.480862,
     "end_time": "2023-11-26T06:56:02.620123",
     "exception": false,
     "start_time": "2023-11-26T06:55:41.139261",
     "status": "completed"
    },
    "tags": []
   },
   "outputs": [
    {
     "name": "stdout",
     "output_type": "stream",
     "text": [
      "Training Log Loss (n_estimators=25): 0.3139\n",
      "Validation Log Loss (n_estimators=25): 7.9734\n",
      "Training Log Loss (n_estimators=50): 0.3133\n",
      "Validation Log Loss (n_estimators=50): 6.7132\n",
      "Training Log Loss (n_estimators=75): 0.3120\n",
      "Validation Log Loss (n_estimators=75): 6.0666\n",
      "Training Log Loss (n_estimators=100): 0.3122\n",
      "Validation Log Loss (n_estimators=100): 5.8846\n",
      "Training Log Loss (n_estimators=200): 0.3112\n",
      "Validation Log Loss (n_estimators=200): 5.4481\n",
      "Training Log Loss (n_estimators=300): 0.3111\n",
      "Validation Log Loss (n_estimators=300): 4.9106\n",
      "Training Log Loss (n_estimators=400): 0.3114\n",
      "Validation Log Loss (n_estimators=400): 4.8140\n",
      "Training Log Loss (n_estimators=500): 0.3112\n",
      "Validation Log Loss (n_estimators=500): 4.6469\n",
      "Training Log Loss (n_estimators=600): 0.3109\n",
      "Validation Log Loss (n_estimators=600): 4.6470\n"
     ]
    },
    {
     "data": {
      "image/png": "[encoded data removed]",
      "text/plain": [
       "<Figure size 1000x600 with 1 Axes>"
      ]
     },
     "metadata": {},
     "output_type": "display_data"
    }
   ],
   "source": [
    "from sklearn.ensemble import RandomForestClassifier\n",
    "from sklearn.metrics import log_loss\n",
    "import numpy as np\n",
    "import matplotlib.pyplot as plt\n",
    "\n",
    "# Define a range of n_estimators values to test\n",
    "n_estimators_values = [25, 50, 75, 100, 200, 300, 400, 500, 600]\n",
    "\n",
    "# Initialize lists to store log losses\n",
    "train_log_losses = []\n",
    "val_log_losses = []\n",
    "\n",
    "# Iterate over the n_estimators values\n",
    "for n in n_estimators_values:\n",
    "    # Create and train the RandomForest model\n",
    "    model_rf = RandomForestClassifier(n_estimators=n, max_depth=None, random_state=42)\n",
    "    model_rf.fit(X_train_resampled, y_train_resampled)\n",
    "\n",
    "    # Make predictions on the training data\n",
    "    predictions_train_rf_proba = model_rf.predict_proba(X_train_resampled)\n",
    "    # Calculate training log loss\n",
    "    train_log_loss = log_loss(y_train_resampled, predictions_train_rf_proba)\n",
    "    train_log_losses.append(train_log_loss)\n",
    "\n",
    "    # Make predictions on the validation data\n",
    "    predictions_val_rf_proba = model_rf.predict_proba(X_val_encoded)\n",
    "    # Calculate validation log loss\n",
    "    val_log_loss = log_loss(y_val, predictions_val_rf_proba)\n",
    "    val_log_losses.append(val_log_loss)\n",
    "\n",
    "    print(f\"Training Log Loss (n_estimators={n}): {train_log_loss:.4f}\")\n",
    "    print(f\"Validation Log Loss (n_estimators={n}): {val_log_loss:.4f}\")\n",
    "\n",
    "# Plot the log losses for different n_estimators values\n",
    "plt.figure(figsize=(10, 6))\n",
    "plt.plot(n_estimators_values, train_log_losses, marker='o', label='Training Log Loss')\n",
    "plt.plot(n_estimators_values, val_log_losses, marker='o', label='Validation Log Loss')\n",
    "plt.title('Log Loss vs. n_estimators')\n",
    "plt.xlabel('n_estimators')\n",
    "plt.ylabel('Log Loss')\n",
    "plt.xticks(n_estimators_values)\n",
    "plt.grid(True)\n",
    "plt.legend()\n",
    "plt.show()\n"
   ]
  },
  {
   "cell_type": "code",
   "execution_count": 10,
   "id": "be85ce78",
   "metadata": {
    "execution": {
     "iopub.execute_input": "2023-11-26T06:56:02.634650Z",
     "iopub.status.busy": "2023-11-26T06:56:02.633669Z",
     "iopub.status.idle": "2023-11-26T06:56:09.235534Z",
     "shell.execute_reply": "2023-11-26T06:56:09.234572Z"
    },
    "papermill": {
     "duration": 6.610984,
     "end_time": "2023-11-26T06:56:09.237563",
     "exception": false,
     "start_time": "2023-11-26T06:56:02.626579",
     "status": "completed"
    },
    "tags": []
   },
   "outputs": [
    {
     "name": "stdout",
     "output_type": "stream",
     "text": [
      "Training Accuracy (n_estimators=25): 0.9139\n",
      "Validation Accuracy (n_estimators=25): 0.3175\n",
      "Training Accuracy (n_estimators=50): 0.9153\n",
      "Validation Accuracy (n_estimators=50): 0.3294\n",
      "Training Accuracy (n_estimators=100): 0.9156\n",
      "Validation Accuracy (n_estimators=100): 0.3264\n",
      "Training Accuracy (n_estimators=200): 0.9156\n",
      "Validation Accuracy (n_estimators=200): 0.3323\n",
      "Training Accuracy (n_estimators=300): 0.9156\n",
      "Validation Accuracy (n_estimators=300): 0.3353\n"
     ]
    },
    {
     "data": {
      "image/png": "[encoded data removed]",
      "text/plain": [
       "<Figure size 1000x600 with 1 Axes>"
      ]
     },
     "metadata": {},
     "output_type": "display_data"
    }
   ],
   "source": [
    "from sklearn.ensemble import RandomForestClassifier\n",
    "from sklearn.metrics import accuracy_score\n",
    "import numpy as np\n",
    "import matplotlib.pyplot as plt\n",
    "\n",
    "# Define a range of n_estimators values to test\n",
    "n_estimators_values = [25, 50, 100, 200, 300]\n",
    "\n",
    "# Initialize lists to store accuracies\n",
    "train_accuracies = []\n",
    "val_accuracies = []\n",
    "\n",
    "# Iterate over the n_estimators values\n",
    "for n in n_estimators_values:\n",
    "    # Create and train the RandomForest model\n",
    "    model_rf = RandomForestClassifier(n_estimators=n, max_depth=None, random_state=42)\n",
    "    model_rf.fit(X_train_resampled, y_train_resampled)\n",
    "\n",
    "    # Make predictions on the training data\n",
    "    predictions_train_rf = model_rf.predict(X_train_resampled)\n",
    "    # Calculate training accuracy\n",
    "    train_accuracy = accuracy_score(y_train_resampled, predictions_train_rf)\n",
    "    train_accuracies.append(train_accuracy)\n",
    "\n",
    "    # Make predictions on the validation data\n",
    "    predictions_val_rf = model_rf.predict(X_val_encoded)\n",
    "    # Calculate validation accuracy\n",
    "    val_accuracy = accuracy_score(y_val, predictions_val_rf)\n",
    "    val_accuracies.append(val_accuracy)\n",
    "\n",
    "    print(f\"Training Accuracy (n_estimators={n}): {train_accuracy:.4f}\")\n",
    "    print(f\"Validation Accuracy (n_estimators={n}): {val_accuracy:.4f}\")\n",
    "\n",
    "# Plot the accuracies for different n_estimators values\n",
    "plt.figure(figsize=(10, 6))\n",
    "plt.plot(n_estimators_values, train_accuracies, marker='o', label='Training Accuracy')\n",
    "plt.plot(n_estimators_values, val_accuracies, marker='o', label='Validation Accuracy')\n",
    "plt.title('Accuracy vs. n_estimators')\n",
    "plt.xlabel('n_estimators')\n",
    "plt.ylabel('Accuracy')\n",
    "plt.xticks(n_estimators_values)\n",
    "plt.grid(True)\n",
    "plt.legend()\n",
    "plt.show()\n"
   ]
  }
 ],
 "metadata": {
  "kaggle": {
   "accelerator": "none",
   "dataSources": [],
   "dockerImageVersionId": 30587,
   "isGpuEnabled": false,
   "isInternetEnabled": true,
   "language": "python",
   "sourceType": "notebook"
  },
  "kernelspec": {
   "display_name": "Python 3",
   "language": "python",
   "name": "python3"
  },
  "language_info": {
   "codemirror_mode": {
    "name": "ipython",
    "version": 3
   },
   "file_extension": ".py",
   "mimetype": "text/x-python",
   "name": "python",
   "nbconvert_exporter": "python",
   "pygments_lexer": "ipython3",
   "version": "3.10.12"
  },
  "papermill": {
   "default_parameters": {},
   "duration": 34.158852,
   "end_time": "2023-11-26T06:56:09.866558",
   "environment_variables": {},
   "exception": null,
   "input_path": "__notebook__.ipynb",
   "output_path": "__notebook__.ipynb",
   "parameters": {},
   "start_time": "2023-11-26T06:55:35.707706",
   "version": "2.4.0"
  }
 },
 "nbformat": 4,
 "nbformat_minor": 5
}
