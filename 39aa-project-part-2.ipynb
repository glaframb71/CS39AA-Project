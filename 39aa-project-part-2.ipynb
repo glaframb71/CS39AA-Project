{
 "cells": [
  {
   "cell_type": "markdown",
   "id": "fbdc097d",
   "metadata": {
    "papermill": {
     "duration": 0.004258,
     "end_time": "2023-11-27T00:42:04.761904",
     "exception": false,
     "start_time": "2023-11-27T00:42:04.757646",
     "status": "completed"
    },
    "tags": []
   },
   "source": [
    "# 39AA Project Part 2\n",
    "[![Kaggle](https://kaggle.com/static/images/open-in-kaggle.svg)](https://kaggle.com/kernels/welcome?src=https://github.com/glaframb71/CS39AA-Project/blob/main/39aa-project-part-2.ipynb)\n"
   ]
  },
  {
   "cell_type": "markdown",
   "id": "7b28ab4e",
   "metadata": {
    "papermill": {
     "duration": 0.003498,
     "end_time": "2023-11-27T00:42:04.771082",
     "exception": false,
     "start_time": "2023-11-27T00:42:04.767584",
     "status": "completed"
    },
    "tags": []
   },
   "source": [
    "<font size=3>Welcome to Part 2 of my 39AA Project! In this notebook, we will be taking the dataset that was explored in Part 1 and trying to complete our task of predicting an athlete's football position based on their height, weight, and college. Let's get started by importing a few packages we will use in this notebook.</font>"
   ]
  },
  {
   "cell_type": "code",
   "execution_count": 1,
   "id": "41acb171",
   "metadata": {
    "_cell_guid": "b1076dfc-b9ad-4769-8c92-a6c4dae69d19",
    "_uuid": "8f2839f25d086af736a60e9eeb907d3b93b6e0e5",
    "execution": {
     "iopub.execute_input": "2023-11-27T00:42:04.779880Z",
     "iopub.status.busy": "2023-11-27T00:42:04.779551Z",
     "iopub.status.idle": "2023-11-27T00:42:06.386957Z",
     "shell.execute_reply": "2023-11-27T00:42:06.385835Z"
    },
    "papermill": {
     "duration": 1.614398,
     "end_time": "2023-11-27T00:42:06.389163",
     "exception": false,
     "start_time": "2023-11-27T00:42:04.774765",
     "status": "completed"
    },
    "tags": []
   },
   "outputs": [],
   "source": [
    "import numpy as np\n",
    "import pandas as pd\n",
    "from sklearn.ensemble import RandomForestClassifier\n",
    "from sklearn.metrics import accuracy_score\n",
    "from sklearn.model_selection import train_test_split\n",
    "import matplotlib.pyplot as plt"
   ]
  },
  {
   "cell_type": "markdown",
   "id": "4c996654",
   "metadata": {
    "papermill": {
     "duration": 0.003439,
     "end_time": "2023-11-27T00:42:06.396575",
     "exception": false,
     "start_time": "2023-11-27T00:42:06.393136",
     "status": "completed"
    },
    "tags": []
   },
   "source": [
    "<font size='3'>Now lets import the players data from the project GitHub.</font>"
   ]
  },
  {
   "cell_type": "code",
   "execution_count": 2,
   "id": "b62c30e2",
   "metadata": {
    "execution": {
     "iopub.execute_input": "2023-11-27T00:42:06.405174Z",
     "iopub.status.busy": "2023-11-27T00:42:06.404750Z",
     "iopub.status.idle": "2023-11-27T00:42:06.669864Z",
     "shell.execute_reply": "2023-11-27T00:42:06.668807Z"
    },
    "papermill": {
     "duration": 0.272465,
     "end_time": "2023-11-27T00:42:06.672586",
     "exception": false,
     "start_time": "2023-11-27T00:42:06.400121",
     "status": "completed"
    },
    "tags": []
   },
   "outputs": [
    {
     "data": {
      "text/html": [
       "<div>\n",
       "<style scoped>\n",
       "    .dataframe tbody tr th:only-of-type {\n",
       "        vertical-align: middle;\n",
       "    }\n",
       "\n",
       "    .dataframe tbody tr th {\n",
       "        vertical-align: top;\n",
       "    }\n",
       "\n",
       "    .dataframe thead th {\n",
       "        text-align: right;\n",
       "    }\n",
       "</style>\n",
       "<table border=\"1\" class=\"dataframe\">\n",
       "  <thead>\n",
       "    <tr style=\"text-align: right;\">\n",
       "      <th></th>\n",
       "      <th>nflId</th>\n",
       "      <th>height</th>\n",
       "      <th>weight</th>\n",
       "      <th>birthDate</th>\n",
       "      <th>collegeName</th>\n",
       "      <th>position</th>\n",
       "      <th>displayName</th>\n",
       "    </tr>\n",
       "  </thead>\n",
       "  <tbody>\n",
       "    <tr>\n",
       "      <th>0</th>\n",
       "      <td>25511</td>\n",
       "      <td>6-4</td>\n",
       "      <td>225</td>\n",
       "      <td>1977-08-03</td>\n",
       "      <td>Michigan</td>\n",
       "      <td>QB</td>\n",
       "      <td>Tom Brady</td>\n",
       "    </tr>\n",
       "    <tr>\n",
       "      <th>1</th>\n",
       "      <td>29550</td>\n",
       "      <td>6-4</td>\n",
       "      <td>328</td>\n",
       "      <td>1982-01-22</td>\n",
       "      <td>Arkansas</td>\n",
       "      <td>T</td>\n",
       "      <td>Jason Peters</td>\n",
       "    </tr>\n",
       "    <tr>\n",
       "      <th>2</th>\n",
       "      <td>29851</td>\n",
       "      <td>6-2</td>\n",
       "      <td>225</td>\n",
       "      <td>1983-12-02</td>\n",
       "      <td>California</td>\n",
       "      <td>QB</td>\n",
       "      <td>Aaron Rodgers</td>\n",
       "    </tr>\n",
       "    <tr>\n",
       "      <th>3</th>\n",
       "      <td>30842</td>\n",
       "      <td>6-6</td>\n",
       "      <td>267</td>\n",
       "      <td>1984-05-19</td>\n",
       "      <td>UCLA</td>\n",
       "      <td>TE</td>\n",
       "      <td>Marcedes Lewis</td>\n",
       "    </tr>\n",
       "    <tr>\n",
       "      <th>4</th>\n",
       "      <td>33084</td>\n",
       "      <td>6-4</td>\n",
       "      <td>217</td>\n",
       "      <td>1985-05-17</td>\n",
       "      <td>Boston College</td>\n",
       "      <td>QB</td>\n",
       "      <td>Matt Ryan</td>\n",
       "    </tr>\n",
       "  </tbody>\n",
       "</table>\n",
       "</div>"
      ],
      "text/plain": [
       "   nflId height  weight   birthDate     collegeName position     displayName\n",
       "0  25511    6-4     225  1977-08-03        Michigan       QB       Tom Brady\n",
       "1  29550    6-4     328  1982-01-22        Arkansas        T    Jason Peters\n",
       "2  29851    6-2     225  1983-12-02      California       QB   Aaron Rodgers\n",
       "3  30842    6-6     267  1984-05-19            UCLA       TE  Marcedes Lewis\n",
       "4  33084    6-4     217  1985-05-17  Boston College       QB       Matt Ryan"
      ]
     },
     "execution_count": 2,
     "metadata": {},
     "output_type": "execute_result"
    }
   ],
   "source": [
    "playersDataUrl = \"https://raw.githubusercontent.com/glaframb71/CS39AA-Project/main/data/players.csv\"\n",
    "playersData = pd.read_csv(playersDataUrl)\n",
    "\n",
    "playersData.head()"
   ]
  },
  {
   "cell_type": "markdown",
   "id": "fd9d961a",
   "metadata": {
    "papermill": {
     "duration": 0.003621,
     "end_time": "2023-11-27T00:42:06.680334",
     "exception": false,
     "start_time": "2023-11-27T00:42:06.676713",
     "status": "completed"
    },
    "tags": []
   },
   "source": [
    "<font size='3'>Great! The only thing missing from the DataFrame is a column that converts the 'height' column, which currently represents player heights in feet as strings, into a 'height_inches' column that represents player heights in inches as ints.</font>"
   ]
  },
  {
   "cell_type": "code",
   "execution_count": 3,
   "id": "ee030996",
   "metadata": {
    "execution": {
     "iopub.execute_input": "2023-11-27T00:42:06.689171Z",
     "iopub.status.busy": "2023-11-27T00:42:06.688891Z",
     "iopub.status.idle": "2023-11-27T00:42:06.709282Z",
     "shell.execute_reply": "2023-11-27T00:42:06.708360Z"
    },
    "papermill": {
     "duration": 0.027049,
     "end_time": "2023-11-27T00:42:06.711102",
     "exception": false,
     "start_time": "2023-11-27T00:42:06.684053",
     "status": "completed"
    },
    "tags": []
   },
   "outputs": [
    {
     "data": {
      "text/html": [
       "<div>\n",
       "<style scoped>\n",
       "    .dataframe tbody tr th:only-of-type {\n",
       "        vertical-align: middle;\n",
       "    }\n",
       "\n",
       "    .dataframe tbody tr th {\n",
       "        vertical-align: top;\n",
       "    }\n",
       "\n",
       "    .dataframe thead th {\n",
       "        text-align: right;\n",
       "    }\n",
       "</style>\n",
       "<table border=\"1\" class=\"dataframe\">\n",
       "  <thead>\n",
       "    <tr style=\"text-align: right;\">\n",
       "      <th></th>\n",
       "      <th>nflId</th>\n",
       "      <th>height</th>\n",
       "      <th>height_inches</th>\n",
       "      <th>weight</th>\n",
       "      <th>birthDate</th>\n",
       "      <th>collegeName</th>\n",
       "      <th>position</th>\n",
       "      <th>displayName</th>\n",
       "    </tr>\n",
       "  </thead>\n",
       "  <tbody>\n",
       "    <tr>\n",
       "      <th>0</th>\n",
       "      <td>25511</td>\n",
       "      <td>6-4</td>\n",
       "      <td>76</td>\n",
       "      <td>225</td>\n",
       "      <td>1977-08-03</td>\n",
       "      <td>Michigan</td>\n",
       "      <td>QB</td>\n",
       "      <td>Tom Brady</td>\n",
       "    </tr>\n",
       "    <tr>\n",
       "      <th>1</th>\n",
       "      <td>29550</td>\n",
       "      <td>6-4</td>\n",
       "      <td>76</td>\n",
       "      <td>328</td>\n",
       "      <td>1982-01-22</td>\n",
       "      <td>Arkansas</td>\n",
       "      <td>T</td>\n",
       "      <td>Jason Peters</td>\n",
       "    </tr>\n",
       "    <tr>\n",
       "      <th>2</th>\n",
       "      <td>29851</td>\n",
       "      <td>6-2</td>\n",
       "      <td>74</td>\n",
       "      <td>225</td>\n",
       "      <td>1983-12-02</td>\n",
       "      <td>California</td>\n",
       "      <td>QB</td>\n",
       "      <td>Aaron Rodgers</td>\n",
       "    </tr>\n",
       "    <tr>\n",
       "      <th>3</th>\n",
       "      <td>30842</td>\n",
       "      <td>6-6</td>\n",
       "      <td>78</td>\n",
       "      <td>267</td>\n",
       "      <td>1984-05-19</td>\n",
       "      <td>UCLA</td>\n",
       "      <td>TE</td>\n",
       "      <td>Marcedes Lewis</td>\n",
       "    </tr>\n",
       "    <tr>\n",
       "      <th>4</th>\n",
       "      <td>33084</td>\n",
       "      <td>6-4</td>\n",
       "      <td>76</td>\n",
       "      <td>217</td>\n",
       "      <td>1985-05-17</td>\n",
       "      <td>Boston College</td>\n",
       "      <td>QB</td>\n",
       "      <td>Matt Ryan</td>\n",
       "    </tr>\n",
       "  </tbody>\n",
       "</table>\n",
       "</div>"
      ],
      "text/plain": [
       "   nflId height  height_inches  weight   birthDate     collegeName position  \\\n",
       "0  25511    6-4             76     225  1977-08-03        Michigan       QB   \n",
       "1  29550    6-4             76     328  1982-01-22        Arkansas        T   \n",
       "2  29851    6-2             74     225  1983-12-02      California       QB   \n",
       "3  30842    6-6             78     267  1984-05-19            UCLA       TE   \n",
       "4  33084    6-4             76     217  1985-05-17  Boston College       QB   \n",
       "\n",
       "      displayName  \n",
       "0       Tom Brady  \n",
       "1    Jason Peters  \n",
       "2   Aaron Rodgers  \n",
       "3  Marcedes Lewis  \n",
       "4       Matt Ryan  "
      ]
     },
     "execution_count": 3,
     "metadata": {},
     "output_type": "execute_result"
    }
   ],
   "source": [
    "# First we will add in the height_inches column to playersData and slot it next to the height column.\n",
    "playersData = playersData.copy()\n",
    "playersData.loc[:, 'height_inches'] = playersData['height'].apply(lambda x: int(x.split('-')[0]) * 12 + int(x.split('-')[1]))\n",
    "height_index = playersData.columns.get_loc('height')\n",
    "playersData.insert(height_index + 1, \"height_inches\", playersData.pop(\"height_inches\"))\n",
    "\n",
    "playersData.head()"
   ]
  },
  {
   "cell_type": "markdown",
   "id": "baabe5bb",
   "metadata": {
    "papermill": {
     "duration": 0.003969,
     "end_time": "2023-11-27T00:42:06.719222",
     "exception": false,
     "start_time": "2023-11-27T00:42:06.715253",
     "status": "completed"
    },
    "tags": []
   },
   "source": [
    "<font size='3'>Now that the 'height_inches' column has been made, lets clean up the DataFrame to hold only the columns that are relevant to the task we are looking to accomplish. As a refresher, these columns will be 'height_inches', 'weight', 'collegeName', and 'position'.</font>"
   ]
  },
  {
   "cell_type": "code",
   "execution_count": 4,
   "id": "b9ae8d09",
   "metadata": {
    "execution": {
     "iopub.execute_input": "2023-11-27T00:42:06.728551Z",
     "iopub.status.busy": "2023-11-27T00:42:06.728196Z",
     "iopub.status.idle": "2023-11-27T00:42:06.743022Z",
     "shell.execute_reply": "2023-11-27T00:42:06.742363Z"
    },
    "papermill": {
     "duration": 0.021585,
     "end_time": "2023-11-27T00:42:06.744729",
     "exception": false,
     "start_time": "2023-11-27T00:42:06.723144",
     "status": "completed"
    },
    "tags": []
   },
   "outputs": [
    {
     "data": {
      "text/html": [
       "<div>\n",
       "<style scoped>\n",
       "    .dataframe tbody tr th:only-of-type {\n",
       "        vertical-align: middle;\n",
       "    }\n",
       "\n",
       "    .dataframe tbody tr th {\n",
       "        vertical-align: top;\n",
       "    }\n",
       "\n",
       "    .dataframe thead th {\n",
       "        text-align: right;\n",
       "    }\n",
       "</style>\n",
       "<table border=\"1\" class=\"dataframe\">\n",
       "  <thead>\n",
       "    <tr style=\"text-align: right;\">\n",
       "      <th></th>\n",
       "      <th>height_inches</th>\n",
       "      <th>weight</th>\n",
       "      <th>collegeName</th>\n",
       "      <th>position</th>\n",
       "    </tr>\n",
       "  </thead>\n",
       "  <tbody>\n",
       "    <tr>\n",
       "      <th>0</th>\n",
       "      <td>76</td>\n",
       "      <td>225</td>\n",
       "      <td>Michigan</td>\n",
       "      <td>QB</td>\n",
       "    </tr>\n",
       "    <tr>\n",
       "      <th>1</th>\n",
       "      <td>76</td>\n",
       "      <td>328</td>\n",
       "      <td>Arkansas</td>\n",
       "      <td>T</td>\n",
       "    </tr>\n",
       "    <tr>\n",
       "      <th>2</th>\n",
       "      <td>74</td>\n",
       "      <td>225</td>\n",
       "      <td>California</td>\n",
       "      <td>QB</td>\n",
       "    </tr>\n",
       "    <tr>\n",
       "      <th>3</th>\n",
       "      <td>78</td>\n",
       "      <td>267</td>\n",
       "      <td>UCLA</td>\n",
       "      <td>TE</td>\n",
       "    </tr>\n",
       "    <tr>\n",
       "      <th>4</th>\n",
       "      <td>76</td>\n",
       "      <td>217</td>\n",
       "      <td>Boston College</td>\n",
       "      <td>QB</td>\n",
       "    </tr>\n",
       "  </tbody>\n",
       "</table>\n",
       "</div>"
      ],
      "text/plain": [
       "   height_inches  weight     collegeName position\n",
       "0             76     225        Michigan       QB\n",
       "1             76     328        Arkansas        T\n",
       "2             74     225      California       QB\n",
       "3             78     267            UCLA       TE\n",
       "4             76     217  Boston College       QB"
      ]
     },
     "execution_count": 4,
     "metadata": {},
     "output_type": "execute_result"
    }
   ],
   "source": [
    "players = playersData[['height_inches', 'weight','collegeName', 'position']]\n",
    "\n",
    "players.head()"
   ]
  },
  {
   "cell_type": "markdown",
   "id": "2081070f",
   "metadata": {
    "papermill": {
     "duration": 0.004055,
     "end_time": "2023-11-27T00:42:06.753544",
     "exception": false,
     "start_time": "2023-11-27T00:42:06.749489",
     "status": "completed"
    },
    "tags": []
   },
   "source": [
    "<font size='3'>Now that we have the players data that was explored in Part 1, we can recall that there was 2 positons that showed up only once in the data. These poisitions were 'DB' and 'LS'. I want to drop these two positions since there isn't very much data to represent these positions. We can do that with the following code.</font>"
   ]
  },
  {
   "cell_type": "code",
   "execution_count": 5,
   "id": "c304b95f",
   "metadata": {
    "execution": {
     "iopub.execute_input": "2023-11-27T00:42:06.763596Z",
     "iopub.status.busy": "2023-11-27T00:42:06.762860Z",
     "iopub.status.idle": "2023-11-27T00:42:06.771690Z",
     "shell.execute_reply": "2023-11-27T00:42:06.770487Z"
    },
    "papermill": {
     "duration": 0.015689,
     "end_time": "2023-11-27T00:42:06.773377",
     "exception": false,
     "start_time": "2023-11-27T00:42:06.757688",
     "status": "completed"
    },
    "tags": []
   },
   "outputs": [
    {
     "name": "stdout",
     "output_type": "stream",
     "text": [
      "Players shape before filter:\n",
      "(1683, 4)\n",
      "Players shape after filter:\n",
      "(1681, 4)\n"
     ]
    }
   ],
   "source": [
    "print('Players shape before filter:')\n",
    "print(players.shape)\n",
    "positions_to_drop = ['DB', 'LS']\n",
    "filtered_players = players[~players['position'].isin(positions_to_drop)]\n",
    "print('Players shape after filter:')\n",
    "print(filtered_players.shape)"
   ]
  },
  {
   "cell_type": "markdown",
   "id": "3e4d0958",
   "metadata": {
    "papermill": {
     "duration": 0.003987,
     "end_time": "2023-11-27T00:42:06.782065",
     "exception": false,
     "start_time": "2023-11-27T00:42:06.778078",
     "status": "completed"
    },
    "tags": []
   },
   "source": [
    "<font size='3'>Now lets create our X dataset, that will hold our key features, and our y dataset, that will hold our targets.</font>"
   ]
  },
  {
   "cell_type": "code",
   "execution_count": 6,
   "id": "89656633",
   "metadata": {
    "execution": {
     "iopub.execute_input": "2023-11-27T00:42:06.792547Z",
     "iopub.status.busy": "2023-11-27T00:42:06.791454Z",
     "iopub.status.idle": "2023-11-27T00:42:06.796987Z",
     "shell.execute_reply": "2023-11-27T00:42:06.796374Z"
    },
    "papermill": {
     "duration": 0.012496,
     "end_time": "2023-11-27T00:42:06.798679",
     "exception": false,
     "start_time": "2023-11-27T00:42:06.786183",
     "status": "completed"
    },
    "tags": []
   },
   "outputs": [],
   "source": [
    "X = filtered_players.drop('position', axis=1)\n",
    "y = filtered_players['position']"
   ]
  },
  {
   "cell_type": "markdown",
   "id": "49be45be",
   "metadata": {
    "papermill": {
     "duration": 0.004022,
     "end_time": "2023-11-27T00:42:06.807265",
     "exception": false,
     "start_time": "2023-11-27T00:42:06.803243",
     "status": "completed"
    },
    "tags": []
   },
   "source": [
    "<font size='3'>Let's split up our data into X and y training and validation sets using the method **train_test_split** imported from sklearn.model_selection. Also to make our data more compatible with machine learning algorithms, let's convert the 'collegeName' column in our X taining and validation sets into a binary format using one-hot encoding.</font>"
   ]
  },
  {
   "cell_type": "code",
   "execution_count": 7,
   "id": "477636d0",
   "metadata": {
    "execution": {
     "iopub.execute_input": "2023-11-27T00:42:06.817553Z",
     "iopub.status.busy": "2023-11-27T00:42:06.816486Z",
     "iopub.status.idle": "2023-11-27T00:42:06.836419Z",
     "shell.execute_reply": "2023-11-27T00:42:06.835501Z"
    },
    "papermill": {
     "duration": 0.027204,
     "end_time": "2023-11-27T00:42:06.838602",
     "exception": false,
     "start_time": "2023-11-27T00:42:06.811398",
     "status": "completed"
    },
    "tags": []
   },
   "outputs": [],
   "source": [
    "X_train, X_val, y_train, y_val = train_test_split(X, y, test_size=0.2, random_state=5)\n",
    "\n",
    "X_val_raw = X_val.copy()\n",
    "\n",
    "X_train_encoded = pd.get_dummies(X_train, columns=['collegeName'])\n",
    "\n",
    "encoded_columns = X_train_encoded.columns\n",
    "\n",
    "X_val_encoded = pd.get_dummies(X_val, columns=['collegeName'])\n",
    "\n",
    "missing_cols = set(X_train_encoded.columns) - set(X_val_encoded.columns)\n",
    "\n",
    "missing_cols_df = pd.DataFrame(False, index=X_val_encoded.index, columns=list(missing_cols))\n",
    "\n",
    "X_val_encoded = pd.concat([X_val_encoded, missing_cols_df], axis=1)\n",
    "\n",
    "X_val_encoded = X_val_encoded[encoded_columns]\n"
   ]
  },
  {
   "cell_type": "markdown",
   "id": "3079eab6",
   "metadata": {
    "papermill": {
     "duration": 0.004116,
     "end_time": "2023-11-27T00:42:06.847371",
     "exception": false,
     "start_time": "2023-11-27T00:42:06.843255",
     "status": "completed"
    },
    "tags": []
   },
   "source": [
    "<font size='3'>Sweet! We have split our dataset into training and validation sets. For our ML model, we will be using RandomForestClassifier as our baseline model. We will look at different n_estimnator values and compare them and choose which one has the best performance. </font>"
   ]
  },
  {
   "cell_type": "code",
   "execution_count": 8,
   "id": "ec2bd7b2",
   "metadata": {
    "execution": {
     "iopub.execute_input": "2023-11-27T00:42:06.858503Z",
     "iopub.status.busy": "2023-11-27T00:42:06.858104Z",
     "iopub.status.idle": "2023-11-27T00:42:11.945190Z",
     "shell.execute_reply": "2023-11-27T00:42:11.944161Z"
    },
    "papermill": {
     "duration": 5.096039,
     "end_time": "2023-11-27T00:42:11.947726",
     "exception": false,
     "start_time": "2023-11-27T00:42:06.851687",
     "status": "completed"
    },
    "tags": []
   },
   "outputs": [
    {
     "name": "stdout",
     "output_type": "stream",
     "text": [
      "Training Accuracy (n_estimators=25): 0.9836\n",
      "Validation Accuracy (n_estimators=25): 0.3887\n",
      "Training Accuracy (n_estimators=30): 0.9866\n",
      "Validation Accuracy (n_estimators=30): 0.3947\n",
      "Training Accuracy (n_estimators=35): 0.9866\n",
      "Validation Accuracy (n_estimators=35): 0.4006\n",
      "Training Accuracy (n_estimators=40): 0.9874\n",
      "Validation Accuracy (n_estimators=40): 0.4065\n",
      "Training Accuracy (n_estimators=45): 0.9874\n",
      "Validation Accuracy (n_estimators=45): 0.3858\n",
      "Training Accuracy (n_estimators=50): 0.9874\n",
      "Validation Accuracy (n_estimators=50): 0.3798\n",
      "Training Accuracy (n_estimators=55): 0.9874\n",
      "Validation Accuracy (n_estimators=55): 0.3828\n",
      "Training Accuracy (n_estimators=60): 0.9874\n",
      "Validation Accuracy (n_estimators=60): 0.3858\n",
      "Training Accuracy (n_estimators=65): 0.9874\n",
      "Validation Accuracy (n_estimators=65): 0.3887\n",
      "Training Accuracy (n_estimators=70): 0.9881\n",
      "Validation Accuracy (n_estimators=70): 0.4065\n",
      "Training Accuracy (n_estimators=75): 0.9881\n",
      "Validation Accuracy (n_estimators=75): 0.4154\n",
      "Training Accuracy (n_estimators=80): 0.9881\n",
      "Validation Accuracy (n_estimators=80): 0.4065\n",
      "Training Accuracy (n_estimators=85): 0.9881\n",
      "Validation Accuracy (n_estimators=85): 0.4006\n",
      "Training Accuracy (n_estimators=90): 0.9881\n",
      "Validation Accuracy (n_estimators=90): 0.4006\n",
      "Training Accuracy (n_estimators=95): 0.9881\n",
      "Validation Accuracy (n_estimators=95): 0.4006\n",
      "Training Accuracy (n_estimators=100): 0.9881\n",
      "Validation Accuracy (n_estimators=100): 0.4006\n"
     ]
    },
    {
     "data": {
      "image/png": "[encoded data removed]",
      "text/plain": [
       "<Figure size 1000x600 with 1 Axes>"
      ]
     },
     "metadata": {},
     "output_type": "display_data"
    }
   ],
   "source": [
    "n_estimators_values = [25, 30, 35, 40, 45, 50, 55, 60, 65, 70, 75, 80, 85, 90, 95, 100]\n",
    "\n",
    "train_accuracies = []\n",
    "val_accuracies = []\n",
    "\n",
    "for n in n_estimators_values:\n",
    "    model_rf = RandomForestClassifier(n_estimators=n, random_state=3)\n",
    "    model_rf.fit(X_train_encoded, y_train)\n",
    "\n",
    "    predictions_train_rf = model_rf.predict(X_train_encoded)\n",
    "    train_accuracy = accuracy_score(y_train, predictions_train_rf)\n",
    "    train_accuracies.append(train_accuracy)\n",
    "\n",
    "    predictions_val_rf = model_rf.predict(X_val_encoded)\n",
    "    val_accuracy = accuracy_score(y_val, predictions_val_rf)\n",
    "    val_accuracies.append(val_accuracy)\n",
    "\n",
    "    print(f\"Training Accuracy (n_estimators={n}): {train_accuracy:.4f}\")\n",
    "    print(f\"Validation Accuracy (n_estimators={n}): {val_accuracy:.4f}\")\n",
    "\n",
    "plt.figure(figsize=(10, 6))\n",
    "plt.plot(n_estimators_values, train_accuracies, marker='o', label='Training Accuracy')\n",
    "plt.plot(n_estimators_values, val_accuracies, marker='o', label='Validation Accuracy')\n",
    "plt.title('Accuracy vs. n_estimators')\n",
    "plt.xlabel('n_estimators')\n",
    "plt.ylabel('Accuracy')\n",
    "plt.xticks(n_estimators_values)\n",
    "plt.grid(True)\n",
    "plt.legend()\n",
    "plt.show()\n"
   ]
  },
  {
   "cell_type": "markdown",
   "id": "66d1b645",
   "metadata": {
    "papermill": {
     "duration": 0.00522,
     "end_time": "2023-11-27T00:42:11.958952",
     "exception": false,
     "start_time": "2023-11-27T00:42:11.953732",
     "status": "completed"
    },
    "tags": []
   },
   "source": [
    "<font size='3'>After taking a look at different n_estimator values and their performance, I will decide to settle on 75 has my n_estimator value. Let's take a look at the predictions the model makes with this hyperparameter.</font>"
   ]
  },
  {
   "cell_type": "code",
   "execution_count": 9,
   "id": "0bd88df4",
   "metadata": {
    "execution": {
     "iopub.execute_input": "2023-11-27T00:42:11.971338Z",
     "iopub.status.busy": "2023-11-27T00:42:11.971001Z",
     "iopub.status.idle": "2023-11-27T00:42:12.415279Z",
     "shell.execute_reply": "2023-11-27T00:42:12.414144Z"
    },
    "papermill": {
     "duration": 0.452778,
     "end_time": "2023-11-27T00:42:12.417187",
     "exception": false,
     "start_time": "2023-11-27T00:42:11.964409",
     "status": "completed"
    },
    "tags": []
   },
   "outputs": [
    {
     "data": {
      "text/html": [
       "<div>\n",
       "<style scoped>\n",
       "    .dataframe tbody tr th:only-of-type {\n",
       "        vertical-align: middle;\n",
       "    }\n",
       "\n",
       "    .dataframe tbody tr th {\n",
       "        vertical-align: top;\n",
       "    }\n",
       "\n",
       "    .dataframe thead th {\n",
       "        text-align: right;\n",
       "    }\n",
       "</style>\n",
       "<table border=\"1\" class=\"dataframe\">\n",
       "  <thead>\n",
       "    <tr style=\"text-align: right;\">\n",
       "      <th></th>\n",
       "      <th>height_inches</th>\n",
       "      <th>weight</th>\n",
       "      <th>collegeName</th>\n",
       "      <th>predictions</th>\n",
       "    </tr>\n",
       "  </thead>\n",
       "  <tbody>\n",
       "    <tr>\n",
       "      <th>783</th>\n",
       "      <td>71</td>\n",
       "      <td>200</td>\n",
       "      <td>Maryland</td>\n",
       "      <td>CB</td>\n",
       "    </tr>\n",
       "    <tr>\n",
       "      <th>209</th>\n",
       "      <td>70</td>\n",
       "      <td>192</td>\n",
       "      <td>Miami</td>\n",
       "      <td>FS</td>\n",
       "    </tr>\n",
       "    <tr>\n",
       "      <th>253</th>\n",
       "      <td>72</td>\n",
       "      <td>191</td>\n",
       "      <td>Maryland</td>\n",
       "      <td>CB</td>\n",
       "    </tr>\n",
       "    <tr>\n",
       "      <th>687</th>\n",
       "      <td>72</td>\n",
       "      <td>185</td>\n",
       "      <td>Southern Mississippi</td>\n",
       "      <td>WR</td>\n",
       "    </tr>\n",
       "    <tr>\n",
       "      <th>681</th>\n",
       "      <td>76</td>\n",
       "      <td>310</td>\n",
       "      <td>Rutgers</td>\n",
       "      <td>DT</td>\n",
       "    </tr>\n",
       "    <tr>\n",
       "      <th>515</th>\n",
       "      <td>80</td>\n",
       "      <td>305</td>\n",
       "      <td>UCLA</td>\n",
       "      <td>T</td>\n",
       "    </tr>\n",
       "    <tr>\n",
       "      <th>1320</th>\n",
       "      <td>75</td>\n",
       "      <td>280</td>\n",
       "      <td>Tulane</td>\n",
       "      <td>DE</td>\n",
       "    </tr>\n",
       "    <tr>\n",
       "      <th>292</th>\n",
       "      <td>79</td>\n",
       "      <td>300</td>\n",
       "      <td>Oregon</td>\n",
       "      <td>T</td>\n",
       "    </tr>\n",
       "    <tr>\n",
       "      <th>1546</th>\n",
       "      <td>78</td>\n",
       "      <td>255</td>\n",
       "      <td>San Diego State</td>\n",
       "      <td>TE</td>\n",
       "    </tr>\n",
       "    <tr>\n",
       "      <th>118</th>\n",
       "      <td>71</td>\n",
       "      <td>212</td>\n",
       "      <td>Oklahoma</td>\n",
       "      <td>RB</td>\n",
       "    </tr>\n",
       "  </tbody>\n",
       "</table>\n",
       "</div>"
      ],
      "text/plain": [
       "      height_inches  weight           collegeName predictions\n",
       "783              71     200              Maryland          CB\n",
       "209              70     192                 Miami          FS\n",
       "253              72     191              Maryland          CB\n",
       "687              72     185  Southern Mississippi          WR\n",
       "681              76     310               Rutgers          DT\n",
       "515              80     305                  UCLA           T\n",
       "1320             75     280                Tulane          DE\n",
       "292              79     300                Oregon           T\n",
       "1546             78     255       San Diego State          TE\n",
       "118              71     212              Oklahoma          RB"
      ]
     },
     "execution_count": 9,
     "metadata": {},
     "output_type": "execute_result"
    }
   ],
   "source": [
    "final_model = RandomForestClassifier(n_estimators=75, random_state=3)\n",
    "model_rf.fit(X_train_encoded, y_train)\n",
    "predictions_val_rf = model_rf.predict(X_val_encoded)\n",
    "X_val['predictions'] = predictions_val_rf\n",
    "X_val.head(10)"
   ]
  }
 ],
 "metadata": {
  "kaggle": {
   "accelerator": "none",
   "dataSources": [],
   "dockerImageVersionId": 30587,
   "isGpuEnabled": false,
   "isInternetEnabled": true,
   "language": "python",
   "sourceType": "notebook"
  },
  "kernelspec": {
   "display_name": "Python 3",
   "language": "python",
   "name": "python3"
  },
  "language_info": {
   "codemirror_mode": {
    "name": "ipython",
    "version": 3
   },
   "file_extension": ".py",
   "mimetype": "text/x-python",
   "name": "python",
   "nbconvert_exporter": "python",
   "pygments_lexer": "ipython3",
   "version": "3.10.12"
  },
  "papermill": {
   "default_parameters": {},
   "duration": 10.364986,
   "end_time": "2023-11-27T00:42:12.642757",
   "environment_variables": {},
   "exception": null,
   "input_path": "__notebook__.ipynb",
   "output_path": "__notebook__.ipynb",
   "parameters": {},
   "start_time": "2023-11-27T00:42:02.277771",
   "version": "2.4.0"
  }
 },
 "nbformat": 4,
 "nbformat_minor": 5
}
