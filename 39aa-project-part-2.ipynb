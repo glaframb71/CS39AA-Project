{
 "cells": [
  {
   "cell_type": "markdown",
   "id": "d46e77a4",
   "metadata": {
    "papermill": {
     "duration": 0.004285,
     "end_time": "2023-11-21T16:30:40.042370",
     "exception": false,
     "start_time": "2023-11-21T16:30:40.038085",
     "status": "completed"
    },
    "tags": []
   },
   "source": [
    "# 39AA Project Part 2\n",
    "[![Kaggle](https://kaggle.com/static/images/open-in-kaggle.svg)](https://kaggle.com/kernels/welcome?src=https://github.com/glaframb71/CS39AA-Project/blob/main/39aa-project.ipynb)\n"
   ]
  },
  {
   "cell_type": "code",
   "execution_count": 1,
   "id": "66250fc9",
   "metadata": {
    "_cell_guid": "b1076dfc-b9ad-4769-8c92-a6c4dae69d19",
    "_uuid": "8f2839f25d086af736a60e9eeb907d3b93b6e0e5",
    "execution": {
     "iopub.execute_input": "2023-11-21T16:30:40.054608Z",
     "iopub.status.busy": "2023-11-21T16:30:40.054169Z",
     "iopub.status.idle": "2023-11-21T16:30:40.568056Z",
     "shell.execute_reply": "2023-11-21T16:30:40.566704Z"
    },
    "papermill": {
     "duration": 0.525098,
     "end_time": "2023-11-21T16:30:40.571377",
     "exception": false,
     "start_time": "2023-11-21T16:30:40.046279",
     "status": "completed"
    },
    "tags": []
   },
   "outputs": [],
   "source": [
    "import numpy as np # linear algebra\n",
    "import pandas as pd # data processing, CSV file I/O (e.g. pd.read_csv)"
   ]
  },
  {
   "cell_type": "markdown",
   "id": "6f82edf5",
   "metadata": {
    "papermill": {
     "duration": 0.003335,
     "end_time": "2023-11-21T16:30:40.578526",
     "exception": false,
     "start_time": "2023-11-21T16:30:40.575191",
     "status": "completed"
    },
    "tags": []
   },
   "source": [
    "Lets import our players data..."
   ]
  },
  {
   "cell_type": "code",
   "execution_count": 2,
   "id": "f039f00d",
   "metadata": {
    "execution": {
     "iopub.execute_input": "2023-11-21T16:30:40.588146Z",
     "iopub.status.busy": "2023-11-21T16:30:40.587537Z",
     "iopub.status.idle": "2023-11-21T16:30:40.887780Z",
     "shell.execute_reply": "2023-11-21T16:30:40.886086Z"
    },
    "papermill": {
     "duration": 0.308721,
     "end_time": "2023-11-21T16:30:40.890883",
     "exception": false,
     "start_time": "2023-11-21T16:30:40.582162",
     "status": "completed"
    },
    "tags": []
   },
   "outputs": [
    {
     "data": {
      "text/html": [
       "<div>\n",
       "<style scoped>\n",
       "    .dataframe tbody tr th:only-of-type {\n",
       "        vertical-align: middle;\n",
       "    }\n",
       "\n",
       "    .dataframe tbody tr th {\n",
       "        vertical-align: top;\n",
       "    }\n",
       "\n",
       "    .dataframe thead th {\n",
       "        text-align: right;\n",
       "    }\n",
       "</style>\n",
       "<table border=\"1\" class=\"dataframe\">\n",
       "  <thead>\n",
       "    <tr style=\"text-align: right;\">\n",
       "      <th></th>\n",
       "      <th>nflId</th>\n",
       "      <th>height</th>\n",
       "      <th>weight</th>\n",
       "      <th>birthDate</th>\n",
       "      <th>collegeName</th>\n",
       "      <th>position</th>\n",
       "      <th>displayName</th>\n",
       "    </tr>\n",
       "  </thead>\n",
       "  <tbody>\n",
       "    <tr>\n",
       "      <th>0</th>\n",
       "      <td>25511</td>\n",
       "      <td>6-4</td>\n",
       "      <td>225</td>\n",
       "      <td>1977-08-03</td>\n",
       "      <td>Michigan</td>\n",
       "      <td>QB</td>\n",
       "      <td>Tom Brady</td>\n",
       "    </tr>\n",
       "    <tr>\n",
       "      <th>1</th>\n",
       "      <td>29550</td>\n",
       "      <td>6-4</td>\n",
       "      <td>328</td>\n",
       "      <td>1982-01-22</td>\n",
       "      <td>Arkansas</td>\n",
       "      <td>T</td>\n",
       "      <td>Jason Peters</td>\n",
       "    </tr>\n",
       "    <tr>\n",
       "      <th>2</th>\n",
       "      <td>29851</td>\n",
       "      <td>6-2</td>\n",
       "      <td>225</td>\n",
       "      <td>1983-12-02</td>\n",
       "      <td>California</td>\n",
       "      <td>QB</td>\n",
       "      <td>Aaron Rodgers</td>\n",
       "    </tr>\n",
       "    <tr>\n",
       "      <th>3</th>\n",
       "      <td>30842</td>\n",
       "      <td>6-6</td>\n",
       "      <td>267</td>\n",
       "      <td>1984-05-19</td>\n",
       "      <td>UCLA</td>\n",
       "      <td>TE</td>\n",
       "      <td>Marcedes Lewis</td>\n",
       "    </tr>\n",
       "    <tr>\n",
       "      <th>4</th>\n",
       "      <td>33084</td>\n",
       "      <td>6-4</td>\n",
       "      <td>217</td>\n",
       "      <td>1985-05-17</td>\n",
       "      <td>Boston College</td>\n",
       "      <td>QB</td>\n",
       "      <td>Matt Ryan</td>\n",
       "    </tr>\n",
       "    <tr>\n",
       "      <th>5</th>\n",
       "      <td>33099</td>\n",
       "      <td>6-6</td>\n",
       "      <td>245</td>\n",
       "      <td>1985-01-16</td>\n",
       "      <td>Delaware</td>\n",
       "      <td>QB</td>\n",
       "      <td>Joe Flacco</td>\n",
       "    </tr>\n",
       "    <tr>\n",
       "      <th>6</th>\n",
       "      <td>33107</td>\n",
       "      <td>6-4</td>\n",
       "      <td>315</td>\n",
       "      <td>1985-08-30</td>\n",
       "      <td>Virginia Tech</td>\n",
       "      <td>T</td>\n",
       "      <td>Duane Brown</td>\n",
       "    </tr>\n",
       "    <tr>\n",
       "      <th>7</th>\n",
       "      <td>33130</td>\n",
       "      <td>5-10</td>\n",
       "      <td>175</td>\n",
       "      <td>1986-12-01</td>\n",
       "      <td>California</td>\n",
       "      <td>WR</td>\n",
       "      <td>DeSean Jackson</td>\n",
       "    </tr>\n",
       "    <tr>\n",
       "      <th>8</th>\n",
       "      <td>33131</td>\n",
       "      <td>6-8</td>\n",
       "      <td>300</td>\n",
       "      <td>1986-09-01</td>\n",
       "      <td>Miami</td>\n",
       "      <td>DE</td>\n",
       "      <td>Calais Campbell</td>\n",
       "    </tr>\n",
       "    <tr>\n",
       "      <th>9</th>\n",
       "      <td>33138</td>\n",
       "      <td>6-3</td>\n",
       "      <td>222</td>\n",
       "      <td>1985-07-02</td>\n",
       "      <td>Michigan</td>\n",
       "      <td>QB</td>\n",
       "      <td>Chad Henne</td>\n",
       "    </tr>\n",
       "  </tbody>\n",
       "</table>\n",
       "</div>"
      ],
      "text/plain": [
       "   nflId height  weight   birthDate     collegeName position      displayName\n",
       "0  25511    6-4     225  1977-08-03        Michigan       QB        Tom Brady\n",
       "1  29550    6-4     328  1982-01-22        Arkansas        T     Jason Peters\n",
       "2  29851    6-2     225  1983-12-02      California       QB    Aaron Rodgers\n",
       "3  30842    6-6     267  1984-05-19            UCLA       TE   Marcedes Lewis\n",
       "4  33084    6-4     217  1985-05-17  Boston College       QB        Matt Ryan\n",
       "5  33099    6-6     245  1985-01-16        Delaware       QB       Joe Flacco\n",
       "6  33107    6-4     315  1985-08-30   Virginia Tech        T      Duane Brown\n",
       "7  33130   5-10     175  1986-12-01      California       WR   DeSean Jackson\n",
       "8  33131    6-8     300  1986-09-01           Miami       DE  Calais Campbell\n",
       "9  33138    6-3     222  1985-07-02        Michigan       QB       Chad Henne"
      ]
     },
     "execution_count": 2,
     "metadata": {},
     "output_type": "execute_result"
    }
   ],
   "source": [
    "playersDataUrl = \"https://raw.githubusercontent.com/glaframb71/CS39AA-Project/main/data/players.csv\"\n",
    "playersData = pd.read_csv(playersDataUrl)\n",
    "\n",
    "playersData.head(10)"
   ]
  },
  {
   "cell_type": "markdown",
   "id": "aad8fe1c",
   "metadata": {
    "papermill": {
     "duration": 0.003891,
     "end_time": "2023-11-21T16:30:40.899017",
     "exception": false,
     "start_time": "2023-11-21T16:30:40.895126",
     "status": "completed"
    },
    "tags": []
   },
   "source": [
    "Great! The only thing missing from the DataFrame is a column that converts the 'height' column, which currently represents player heights in feet as strings, into a 'height_inches' column that represents player heights in inches as ints."
   ]
  },
  {
   "cell_type": "code",
   "execution_count": 3,
   "id": "78936955",
   "metadata": {
    "execution": {
     "iopub.execute_input": "2023-11-21T16:30:40.909337Z",
     "iopub.status.busy": "2023-11-21T16:30:40.908885Z",
     "iopub.status.idle": "2023-11-21T16:30:40.937917Z",
     "shell.execute_reply": "2023-11-21T16:30:40.936534Z"
    },
    "papermill": {
     "duration": 0.037363,
     "end_time": "2023-11-21T16:30:40.940462",
     "exception": false,
     "start_time": "2023-11-21T16:30:40.903099",
     "status": "completed"
    },
    "tags": []
   },
   "outputs": [
    {
     "data": {
      "text/html": [
       "<div>\n",
       "<style scoped>\n",
       "    .dataframe tbody tr th:only-of-type {\n",
       "        vertical-align: middle;\n",
       "    }\n",
       "\n",
       "    .dataframe tbody tr th {\n",
       "        vertical-align: top;\n",
       "    }\n",
       "\n",
       "    .dataframe thead th {\n",
       "        text-align: right;\n",
       "    }\n",
       "</style>\n",
       "<table border=\"1\" class=\"dataframe\">\n",
       "  <thead>\n",
       "    <tr style=\"text-align: right;\">\n",
       "      <th></th>\n",
       "      <th>nflId</th>\n",
       "      <th>height</th>\n",
       "      <th>height_inches</th>\n",
       "      <th>weight</th>\n",
       "      <th>birthDate</th>\n",
       "      <th>collegeName</th>\n",
       "      <th>position</th>\n",
       "      <th>displayName</th>\n",
       "    </tr>\n",
       "  </thead>\n",
       "  <tbody>\n",
       "    <tr>\n",
       "      <th>0</th>\n",
       "      <td>25511</td>\n",
       "      <td>6-4</td>\n",
       "      <td>76</td>\n",
       "      <td>225</td>\n",
       "      <td>1977-08-03</td>\n",
       "      <td>Michigan</td>\n",
       "      <td>QB</td>\n",
       "      <td>Tom Brady</td>\n",
       "    </tr>\n",
       "    <tr>\n",
       "      <th>1</th>\n",
       "      <td>29550</td>\n",
       "      <td>6-4</td>\n",
       "      <td>76</td>\n",
       "      <td>328</td>\n",
       "      <td>1982-01-22</td>\n",
       "      <td>Arkansas</td>\n",
       "      <td>T</td>\n",
       "      <td>Jason Peters</td>\n",
       "    </tr>\n",
       "    <tr>\n",
       "      <th>2</th>\n",
       "      <td>29851</td>\n",
       "      <td>6-2</td>\n",
       "      <td>74</td>\n",
       "      <td>225</td>\n",
       "      <td>1983-12-02</td>\n",
       "      <td>California</td>\n",
       "      <td>QB</td>\n",
       "      <td>Aaron Rodgers</td>\n",
       "    </tr>\n",
       "    <tr>\n",
       "      <th>3</th>\n",
       "      <td>30842</td>\n",
       "      <td>6-6</td>\n",
       "      <td>78</td>\n",
       "      <td>267</td>\n",
       "      <td>1984-05-19</td>\n",
       "      <td>UCLA</td>\n",
       "      <td>TE</td>\n",
       "      <td>Marcedes Lewis</td>\n",
       "    </tr>\n",
       "    <tr>\n",
       "      <th>4</th>\n",
       "      <td>33084</td>\n",
       "      <td>6-4</td>\n",
       "      <td>76</td>\n",
       "      <td>217</td>\n",
       "      <td>1985-05-17</td>\n",
       "      <td>Boston College</td>\n",
       "      <td>QB</td>\n",
       "      <td>Matt Ryan</td>\n",
       "    </tr>\n",
       "  </tbody>\n",
       "</table>\n",
       "</div>"
      ],
      "text/plain": [
       "   nflId height  height_inches  weight   birthDate     collegeName position  \\\n",
       "0  25511    6-4             76     225  1977-08-03        Michigan       QB   \n",
       "1  29550    6-4             76     328  1982-01-22        Arkansas        T   \n",
       "2  29851    6-2             74     225  1983-12-02      California       QB   \n",
       "3  30842    6-6             78     267  1984-05-19            UCLA       TE   \n",
       "4  33084    6-4             76     217  1985-05-17  Boston College       QB   \n",
       "\n",
       "      displayName  \n",
       "0       Tom Brady  \n",
       "1    Jason Peters  \n",
       "2   Aaron Rodgers  \n",
       "3  Marcedes Lewis  \n",
       "4       Matt Ryan  "
      ]
     },
     "execution_count": 3,
     "metadata": {},
     "output_type": "execute_result"
    }
   ],
   "source": [
    "# First we will add in the height_inches column to playersData and slot it next to the height column.\n",
    "playersData = playersData.copy()\n",
    "playersData.loc[:, 'height_inches'] = playersData['height'].apply(lambda x: int(x.split('-')[0]) * 12 + int(x.split('-')[1]))\n",
    "height_index = playersData.columns.get_loc('height')\n",
    "playersData.insert(height_index + 1, \"height_inches\", playersData.pop(\"height_inches\"))\n",
    "\n",
    "playersData.head()"
   ]
  },
  {
   "cell_type": "markdown",
   "id": "fdd47128",
   "metadata": {
    "papermill": {
     "duration": 0.003851,
     "end_time": "2023-11-21T16:30:40.948989",
     "exception": false,
     "start_time": "2023-11-21T16:30:40.945138",
     "status": "completed"
    },
    "tags": []
   },
   "source": [
    "Now that the 'height_inches' column has been made, lets clean up the DataFrame to hold only the columns that are relevant to the task we are looking to accomplish."
   ]
  },
  {
   "cell_type": "code",
   "execution_count": 4,
   "id": "6eaea2de",
   "metadata": {
    "execution": {
     "iopub.execute_input": "2023-11-21T16:30:40.959347Z",
     "iopub.status.busy": "2023-11-21T16:30:40.958714Z",
     "iopub.status.idle": "2023-11-21T16:30:40.980355Z",
     "shell.execute_reply": "2023-11-21T16:30:40.978856Z"
    },
    "papermill": {
     "duration": 0.030355,
     "end_time": "2023-11-21T16:30:40.983336",
     "exception": false,
     "start_time": "2023-11-21T16:30:40.952981",
     "status": "completed"
    },
    "tags": []
   },
   "outputs": [
    {
     "data": {
      "text/html": [
       "<div>\n",
       "<style scoped>\n",
       "    .dataframe tbody tr th:only-of-type {\n",
       "        vertical-align: middle;\n",
       "    }\n",
       "\n",
       "    .dataframe tbody tr th {\n",
       "        vertical-align: top;\n",
       "    }\n",
       "\n",
       "    .dataframe thead th {\n",
       "        text-align: right;\n",
       "    }\n",
       "</style>\n",
       "<table border=\"1\" class=\"dataframe\">\n",
       "  <thead>\n",
       "    <tr style=\"text-align: right;\">\n",
       "      <th></th>\n",
       "      <th>height_inches</th>\n",
       "      <th>weight</th>\n",
       "      <th>collegeName</th>\n",
       "      <th>position</th>\n",
       "    </tr>\n",
       "  </thead>\n",
       "  <tbody>\n",
       "    <tr>\n",
       "      <th>0</th>\n",
       "      <td>76</td>\n",
       "      <td>225</td>\n",
       "      <td>Michigan</td>\n",
       "      <td>QB</td>\n",
       "    </tr>\n",
       "    <tr>\n",
       "      <th>1</th>\n",
       "      <td>76</td>\n",
       "      <td>328</td>\n",
       "      <td>Arkansas</td>\n",
       "      <td>T</td>\n",
       "    </tr>\n",
       "    <tr>\n",
       "      <th>2</th>\n",
       "      <td>74</td>\n",
       "      <td>225</td>\n",
       "      <td>California</td>\n",
       "      <td>QB</td>\n",
       "    </tr>\n",
       "    <tr>\n",
       "      <th>3</th>\n",
       "      <td>78</td>\n",
       "      <td>267</td>\n",
       "      <td>UCLA</td>\n",
       "      <td>TE</td>\n",
       "    </tr>\n",
       "    <tr>\n",
       "      <th>4</th>\n",
       "      <td>76</td>\n",
       "      <td>217</td>\n",
       "      <td>Boston College</td>\n",
       "      <td>QB</td>\n",
       "    </tr>\n",
       "  </tbody>\n",
       "</table>\n",
       "</div>"
      ],
      "text/plain": [
       "   height_inches  weight     collegeName position\n",
       "0             76     225        Michigan       QB\n",
       "1             76     328        Arkansas        T\n",
       "2             74     225      California       QB\n",
       "3             78     267            UCLA       TE\n",
       "4             76     217  Boston College       QB"
      ]
     },
     "execution_count": 4,
     "metadata": {},
     "output_type": "execute_result"
    }
   ],
   "source": [
    "players = playersData[['height_inches', 'weight', 'collegeName', 'position']]\n",
    "\n",
    "players.head()"
   ]
  }
 ],
 "metadata": {
  "kaggle": {
   "accelerator": "none",
   "dataSources": [],
   "dockerImageVersionId": 30587,
   "isGpuEnabled": false,
   "isInternetEnabled": true,
   "language": "python",
   "sourceType": "notebook"
  },
  "kernelspec": {
   "display_name": "Python 3",
   "language": "python",
   "name": "python3"
  },
  "language_info": {
   "codemirror_mode": {
    "name": "ipython",
    "version": 3
   },
   "file_extension": ".py",
   "mimetype": "text/x-python",
   "name": "python",
   "nbconvert_exporter": "python",
   "pygments_lexer": "ipython3",
   "version": "3.10.12"
  },
  "papermill": {
   "default_parameters": {},
   "duration": 5.493484,
   "end_time": "2023-11-21T16:30:41.614846",
   "environment_variables": {},
   "exception": null,
   "input_path": "__notebook__.ipynb",
   "output_path": "__notebook__.ipynb",
   "parameters": {},
   "start_time": "2023-11-21T16:30:36.121362",
   "version": "2.4.0"
  }
 },
 "nbformat": 4,
 "nbformat_minor": 5
}
