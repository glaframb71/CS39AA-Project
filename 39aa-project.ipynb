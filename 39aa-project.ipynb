{
 "cells": [
  {
   "cell_type": "markdown",
   "id": "6a933bff",
   "metadata": {
    "papermill": {
     "duration": 0.005839,
     "end_time": "2023-11-13T00:15:11.822780",
     "exception": false,
     "start_time": "2023-11-13T00:15:11.816941",
     "status": "completed"
    },
    "tags": []
   },
   "source": [
    "# Project Part 1\n",
    "\n",
    "## 1. Introduction/Background\n",
    "\n",
    "<font size =\"3\">For my 39AA Project, I plan to use a dataset related to sports analytics to gain hands-on experience working with data in the world of sports. With the guidance of Professor Geinitz, we successfully located a Kaggle competition called NFL Big Data Bowl 2024, which is hosted by The National Football League. This competition offers multiple CSV files that contain a wide range of data from the 2022 NFL season. One of these datasets specifically focuses on NFL players who participated in the 2022 season, providing information such as their NFL ID, height, weight, birthdate, college, and position.</font>\n",
    "\n",
    "<font size =\"3\">Using this NFL Players dataset, my objective is to predict a player's position based on their height, weight, and college. This task falls under the domain of Natural Language Processing (NLP) and specifically involves text classification. Text classification in NLP refers to the process of assigning predefined categories or labels to textual information based on its content. In this case, the textual information consists of the player's height, weight, and college, and the goal is to classify this information into specific positions such as quarterback, running back, corner back, defensive tackle, and so on.</font>\n"
   ]
  },
  {
   "cell_type": "markdown",
   "id": "c0a7d905",
   "metadata": {
    "papermill": {
     "duration": 0.004614,
     "end_time": "2023-11-13T00:15:11.832639",
     "exception": false,
     "start_time": "2023-11-13T00:15:11.828025",
     "status": "completed"
    },
    "tags": []
   },
   "source": [
    "## 2. Exploratory Data Analysis\n",
    "<font size =\"3\">Now that we know what dataset is being used, where it came from, and what kind of NLP task we are looking to accomplish, let's perfrom some exploratory data analysis to get a better idea of what this player data looks like. In order to do that, we need to import some modules/packages that we will need to execture our exploratory data analysis.</font>"
   ]
  },
  {
   "cell_type": "code",
   "execution_count": 1,
   "id": "b44e2ffa",
   "metadata": {
    "execution": {
     "iopub.execute_input": "2023-11-13T00:15:11.846500Z",
     "iopub.status.busy": "2023-11-13T00:15:11.844742Z",
     "iopub.status.idle": "2023-11-13T00:15:14.768850Z",
     "shell.execute_reply": "2023-11-13T00:15:14.767377Z"
    },
    "papermill": {
     "duration": 2.934703,
     "end_time": "2023-11-13T00:15:14.772199",
     "exception": false,
     "start_time": "2023-11-13T00:15:11.837496",
     "status": "completed"
    },
    "tags": []
   },
   "outputs": [],
   "source": [
    "import pandas as pd\n",
    "import matplotlib.pyplot as plt\n",
    "import seaborn as sns\n",
    "import nltk\n",
    "stopwords = [\"dType\", \"Name\", \"Length\", \"collegeName\", \"object\"]"
   ]
  },
  {
   "cell_type": "markdown",
   "id": "f84370d3",
   "metadata": {
    "papermill": {
     "duration": 0.004843,
     "end_time": "2023-11-13T00:15:14.782227",
     "exception": false,
     "start_time": "2023-11-13T00:15:14.777384",
     "status": "completed"
    },
    "tags": []
   },
   "source": [
    "<font size =\"3\">The modules/packages that we may need have now been imported. Next, we need to load the players dataset and examine the first 10 entries to get a visual representation of our data. This will help us better understand the structure and content of the dataset. We can utilize the pandas package, which we imported as pd earlier, to create our players dataframe.</font>"
   ]
  },
  {
   "cell_type": "code",
   "execution_count": 2,
   "id": "2fc4bff3",
   "metadata": {
    "execution": {
     "iopub.execute_input": "2023-11-13T00:15:14.794313Z",
     "iopub.status.busy": "2023-11-13T00:15:14.793717Z",
     "iopub.status.idle": "2023-11-13T00:15:15.057632Z",
     "shell.execute_reply": "2023-11-13T00:15:15.056504Z"
    },
    "papermill": {
     "duration": 0.272857,
     "end_time": "2023-11-13T00:15:15.060073",
     "exception": false,
     "start_time": "2023-11-13T00:15:14.787216",
     "status": "completed"
    },
    "tags": []
   },
   "outputs": [
    {
     "data": {
      "text/html": [
       "<div>\n",
       "<style scoped>\n",
       "    .dataframe tbody tr th:only-of-type {\n",
       "        vertical-align: middle;\n",
       "    }\n",
       "\n",
       "    .dataframe tbody tr th {\n",
       "        vertical-align: top;\n",
       "    }\n",
       "\n",
       "    .dataframe thead th {\n",
       "        text-align: right;\n",
       "    }\n",
       "</style>\n",
       "<table border=\"1\" class=\"dataframe\">\n",
       "  <thead>\n",
       "    <tr style=\"text-align: right;\">\n",
       "      <th></th>\n",
       "      <th>nflId</th>\n",
       "      <th>height</th>\n",
       "      <th>weight</th>\n",
       "      <th>birthDate</th>\n",
       "      <th>collegeName</th>\n",
       "      <th>position</th>\n",
       "      <th>displayName</th>\n",
       "    </tr>\n",
       "  </thead>\n",
       "  <tbody>\n",
       "    <tr>\n",
       "      <th>0</th>\n",
       "      <td>25511</td>\n",
       "      <td>6-4</td>\n",
       "      <td>225</td>\n",
       "      <td>1977-08-03</td>\n",
       "      <td>Michigan</td>\n",
       "      <td>QB</td>\n",
       "      <td>Tom Brady</td>\n",
       "    </tr>\n",
       "    <tr>\n",
       "      <th>1</th>\n",
       "      <td>29550</td>\n",
       "      <td>6-4</td>\n",
       "      <td>328</td>\n",
       "      <td>1982-01-22</td>\n",
       "      <td>Arkansas</td>\n",
       "      <td>T</td>\n",
       "      <td>Jason Peters</td>\n",
       "    </tr>\n",
       "    <tr>\n",
       "      <th>2</th>\n",
       "      <td>29851</td>\n",
       "      <td>6-2</td>\n",
       "      <td>225</td>\n",
       "      <td>1983-12-02</td>\n",
       "      <td>California</td>\n",
       "      <td>QB</td>\n",
       "      <td>Aaron Rodgers</td>\n",
       "    </tr>\n",
       "    <tr>\n",
       "      <th>3</th>\n",
       "      <td>30842</td>\n",
       "      <td>6-6</td>\n",
       "      <td>267</td>\n",
       "      <td>1984-05-19</td>\n",
       "      <td>UCLA</td>\n",
       "      <td>TE</td>\n",
       "      <td>Marcedes Lewis</td>\n",
       "    </tr>\n",
       "    <tr>\n",
       "      <th>4</th>\n",
       "      <td>33084</td>\n",
       "      <td>6-4</td>\n",
       "      <td>217</td>\n",
       "      <td>1985-05-17</td>\n",
       "      <td>Boston College</td>\n",
       "      <td>QB</td>\n",
       "      <td>Matt Ryan</td>\n",
       "    </tr>\n",
       "    <tr>\n",
       "      <th>5</th>\n",
       "      <td>33099</td>\n",
       "      <td>6-6</td>\n",
       "      <td>245</td>\n",
       "      <td>1985-01-16</td>\n",
       "      <td>Delaware</td>\n",
       "      <td>QB</td>\n",
       "      <td>Joe Flacco</td>\n",
       "    </tr>\n",
       "    <tr>\n",
       "      <th>6</th>\n",
       "      <td>33107</td>\n",
       "      <td>6-4</td>\n",
       "      <td>315</td>\n",
       "      <td>1985-08-30</td>\n",
       "      <td>Virginia Tech</td>\n",
       "      <td>T</td>\n",
       "      <td>Duane Brown</td>\n",
       "    </tr>\n",
       "    <tr>\n",
       "      <th>7</th>\n",
       "      <td>33130</td>\n",
       "      <td>5-10</td>\n",
       "      <td>175</td>\n",
       "      <td>1986-12-01</td>\n",
       "      <td>California</td>\n",
       "      <td>WR</td>\n",
       "      <td>DeSean Jackson</td>\n",
       "    </tr>\n",
       "    <tr>\n",
       "      <th>8</th>\n",
       "      <td>33131</td>\n",
       "      <td>6-8</td>\n",
       "      <td>300</td>\n",
       "      <td>1986-09-01</td>\n",
       "      <td>Miami</td>\n",
       "      <td>DE</td>\n",
       "      <td>Calais Campbell</td>\n",
       "    </tr>\n",
       "    <tr>\n",
       "      <th>9</th>\n",
       "      <td>33138</td>\n",
       "      <td>6-3</td>\n",
       "      <td>222</td>\n",
       "      <td>1985-07-02</td>\n",
       "      <td>Michigan</td>\n",
       "      <td>QB</td>\n",
       "      <td>Chad Henne</td>\n",
       "    </tr>\n",
       "  </tbody>\n",
       "</table>\n",
       "</div>"
      ],
      "text/plain": [
       "   nflId height  weight   birthDate     collegeName position      displayName\n",
       "0  25511    6-4     225  1977-08-03        Michigan       QB        Tom Brady\n",
       "1  29550    6-4     328  1982-01-22        Arkansas        T     Jason Peters\n",
       "2  29851    6-2     225  1983-12-02      California       QB    Aaron Rodgers\n",
       "3  30842    6-6     267  1984-05-19            UCLA       TE   Marcedes Lewis\n",
       "4  33084    6-4     217  1985-05-17  Boston College       QB        Matt Ryan\n",
       "5  33099    6-6     245  1985-01-16        Delaware       QB       Joe Flacco\n",
       "6  33107    6-4     315  1985-08-30   Virginia Tech        T      Duane Brown\n",
       "7  33130   5-10     175  1986-12-01      California       WR   DeSean Jackson\n",
       "8  33131    6-8     300  1986-09-01           Miami       DE  Calais Campbell\n",
       "9  33138    6-3     222  1985-07-02        Michigan       QB       Chad Henne"
      ]
     },
     "execution_count": 2,
     "metadata": {},
     "output_type": "execute_result"
    }
   ],
   "source": [
    "playersDataUrl = \"https://raw.githubusercontent.com/glaframb71/CS39AA-Project/main/data/players.csv\"\n",
    "playersData = pd.read_csv(playersDataUrl)\n",
    "\n",
    "playersData.head(10)"
   ]
  },
  {
   "cell_type": "markdown",
   "id": "d3037574",
   "metadata": {
    "papermill": {
     "duration": 0.005082,
     "end_time": "2023-11-13T00:15:15.070873",
     "exception": false,
     "start_time": "2023-11-13T00:15:15.065791",
     "status": "completed"
    },
    "tags": []
   },
   "source": [
    "<font size =\"3\">Great! The dataset has been successfully loaded into the notebook. However, we need to perform some data cleaning to display only the columns that are relevant to us. Just to recap, the columns we are interested in are height, weight, collegeName, and position. We will also take a peak at the first 10 entries of the newly cleaned up data.</font>"
   ]
  },
  {
   "cell_type": "code",
   "execution_count": 3,
   "id": "ced81579",
   "metadata": {
    "execution": {
     "iopub.execute_input": "2023-11-13T00:15:15.084078Z",
     "iopub.status.busy": "2023-11-13T00:15:15.083632Z",
     "iopub.status.idle": "2023-11-13T00:15:15.109372Z",
     "shell.execute_reply": "2023-11-13T00:15:15.107979Z"
    },
    "papermill": {
     "duration": 0.035655,
     "end_time": "2023-11-13T00:15:15.111920",
     "exception": false,
     "start_time": "2023-11-13T00:15:15.076265",
     "status": "completed"
    },
    "tags": []
   },
   "outputs": [
    {
     "data": {
      "text/html": [
       "<div>\n",
       "<style scoped>\n",
       "    .dataframe tbody tr th:only-of-type {\n",
       "        vertical-align: middle;\n",
       "    }\n",
       "\n",
       "    .dataframe tbody tr th {\n",
       "        vertical-align: top;\n",
       "    }\n",
       "\n",
       "    .dataframe thead th {\n",
       "        text-align: right;\n",
       "    }\n",
       "</style>\n",
       "<table border=\"1\" class=\"dataframe\">\n",
       "  <thead>\n",
       "    <tr style=\"text-align: right;\">\n",
       "      <th></th>\n",
       "      <th>height</th>\n",
       "      <th>weight</th>\n",
       "      <th>collegeName</th>\n",
       "      <th>position</th>\n",
       "    </tr>\n",
       "  </thead>\n",
       "  <tbody>\n",
       "    <tr>\n",
       "      <th>0</th>\n",
       "      <td>6-4</td>\n",
       "      <td>225</td>\n",
       "      <td>Michigan</td>\n",
       "      <td>QB</td>\n",
       "    </tr>\n",
       "    <tr>\n",
       "      <th>1</th>\n",
       "      <td>6-4</td>\n",
       "      <td>328</td>\n",
       "      <td>Arkansas</td>\n",
       "      <td>T</td>\n",
       "    </tr>\n",
       "    <tr>\n",
       "      <th>2</th>\n",
       "      <td>6-2</td>\n",
       "      <td>225</td>\n",
       "      <td>California</td>\n",
       "      <td>QB</td>\n",
       "    </tr>\n",
       "    <tr>\n",
       "      <th>3</th>\n",
       "      <td>6-6</td>\n",
       "      <td>267</td>\n",
       "      <td>UCLA</td>\n",
       "      <td>TE</td>\n",
       "    </tr>\n",
       "    <tr>\n",
       "      <th>4</th>\n",
       "      <td>6-4</td>\n",
       "      <td>217</td>\n",
       "      <td>Boston College</td>\n",
       "      <td>QB</td>\n",
       "    </tr>\n",
       "    <tr>\n",
       "      <th>5</th>\n",
       "      <td>6-6</td>\n",
       "      <td>245</td>\n",
       "      <td>Delaware</td>\n",
       "      <td>QB</td>\n",
       "    </tr>\n",
       "    <tr>\n",
       "      <th>6</th>\n",
       "      <td>6-4</td>\n",
       "      <td>315</td>\n",
       "      <td>Virginia Tech</td>\n",
       "      <td>T</td>\n",
       "    </tr>\n",
       "    <tr>\n",
       "      <th>7</th>\n",
       "      <td>5-10</td>\n",
       "      <td>175</td>\n",
       "      <td>California</td>\n",
       "      <td>WR</td>\n",
       "    </tr>\n",
       "    <tr>\n",
       "      <th>8</th>\n",
       "      <td>6-8</td>\n",
       "      <td>300</td>\n",
       "      <td>Miami</td>\n",
       "      <td>DE</td>\n",
       "    </tr>\n",
       "    <tr>\n",
       "      <th>9</th>\n",
       "      <td>6-3</td>\n",
       "      <td>222</td>\n",
       "      <td>Michigan</td>\n",
       "      <td>QB</td>\n",
       "    </tr>\n",
       "  </tbody>\n",
       "</table>\n",
       "</div>"
      ],
      "text/plain": [
       "  height  weight     collegeName position\n",
       "0    6-4     225        Michigan       QB\n",
       "1    6-4     328        Arkansas        T\n",
       "2    6-2     225      California       QB\n",
       "3    6-6     267            UCLA       TE\n",
       "4    6-4     217  Boston College       QB\n",
       "5    6-6     245        Delaware       QB\n",
       "6    6-4     315   Virginia Tech        T\n",
       "7   5-10     175      California       WR\n",
       "8    6-8     300           Miami       DE\n",
       "9    6-3     222        Michigan       QB"
      ]
     },
     "execution_count": 3,
     "metadata": {},
     "output_type": "execute_result"
    }
   ],
   "source": [
    "players = playersData[['height', 'weight', 'collegeName', 'position']]\n",
    "\n",
    "players.head(10)"
   ]
  },
  {
   "cell_type": "markdown",
   "id": "60070231",
   "metadata": {
    "papermill": {
     "duration": 0.005331,
     "end_time": "2023-11-13T00:15:15.123012",
     "exception": false,
     "start_time": "2023-11-13T00:15:15.117681",
     "status": "completed"
    },
    "tags": []
   },
   "source": [
    "<font size =\"3\">Perfect! Our data has been cleaned up to only include the columns that are relevant to our task. Now, it's time to explore the dataset further by visualizing it with graphs. Let's begin by analyzing the \"weights\" column to identify the most frequently occurring weights in our players dataset. We will do this my utilizing the matplotlib.pyplot module we imported earlier.</font>"
   ]
  },
  {
   "cell_type": "code",
   "execution_count": 4,
   "id": "903df50e",
   "metadata": {
    "execution": {
     "iopub.execute_input": "2023-11-13T00:15:15.136496Z",
     "iopub.status.busy": "2023-11-13T00:15:15.135482Z",
     "iopub.status.idle": "2023-11-13T00:15:15.492409Z",
     "shell.execute_reply": "2023-11-13T00:15:15.491033Z"
    },
    "papermill": {
     "duration": 0.366499,
     "end_time": "2023-11-13T00:15:15.495018",
     "exception": false,
     "start_time": "2023-11-13T00:15:15.128519",
     "status": "completed"
    },
    "tags": []
   },
   "outputs": [
    {
     "data": {
      "image/png": "[encoded data removed]",
      "text/plain": [
       "<Figure size 640x480 with 1 Axes>"
      ]
     },
     "metadata": {},
     "output_type": "display_data"
    }
   ],
   "source": [
    "# Sample weights data\n",
    "weights = players['weight'].tolist()\n",
    "\n",
    "# Create histogram with custom bins\n",
    "bins = range(min(weights), max(weights) + 26, 25)\n",
    "plt.hist(weights, bins=bins, edgecolor='black')\n",
    "\n",
    "# Customize the chart\n",
    "plt.title(\"Weight Frequency Chart\")\n",
    "plt.xlabel(\"Weight\")\n",
    "plt.ylabel(\"Frequency\")\n",
    "\n",
    "# Display the chart\n",
    "plt.show()"
   ]
  },
  {
   "cell_type": "markdown",
   "id": "63392b6f",
   "metadata": {
    "papermill": {
     "duration": 0.005782,
     "end_time": "2023-11-13T00:15:15.506928",
     "exception": false,
     "start_time": "2023-11-13T00:15:15.501146",
     "status": "completed"
    },
    "tags": []
   },
   "source": [
    "<font size =\"3\">After successfully creating a frequency table, we now have a visual representation of the weights of the players who populate the dataset. To read the graph, I grouped the weights into ranges of 25. With that being said, we can observe that our most frequent weight group is between 200-249 pounds, with a frequency of just above 350.</font>\n",
    "\n",
    "<font size =\"3\">Now, let's obtain a visual representation of the different heights of the players in our dataset. To accomplish this, we can create a bar plot using the Seaborn package to compare the height values and determine the most common height.</font>"
   ]
  },
  {
   "cell_type": "code",
   "execution_count": 5,
   "id": "8c02842e",
   "metadata": {
    "execution": {
     "iopub.execute_input": "2023-11-13T00:15:15.521699Z",
     "iopub.status.busy": "2023-11-13T00:15:15.521269Z",
     "iopub.status.idle": "2023-11-13T00:15:15.915174Z",
     "shell.execute_reply": "2023-11-13T00:15:15.914236Z"
    },
    "papermill": {
     "duration": 0.404232,
     "end_time": "2023-11-13T00:15:15.917846",
     "exception": false,
     "start_time": "2023-11-13T00:15:15.513614",
     "status": "completed"
    },
    "tags": []
   },
   "outputs": [
    {
     "data": {
      "text/plain": [
       "<Axes: >"
      ]
     },
     "execution_count": 5,
     "metadata": {},
     "output_type": "execute_result"
    },
    {
     "data": {
      "image/png": "[encoded data removed]",
      "text/plain": [
       "<Figure size 640x480 with 1 Axes>"
      ]
     },
     "metadata": {},
     "output_type": "display_data"
    }
   ],
   "source": [
    "heights = players['height'].str.split()\n",
    "heights = heights.tolist()\n",
    "heightsGathered=[word for i in heights for word in i]\n",
    "\n",
    "from collections import Counter\n",
    "heightCounter=Counter(heightsGathered)\n",
    "heightMost=heightCounter.most_common()\n",
    "\n",
    "x, y = [], []\n",
    "for word, count in heightMost:\n",
    "    if (word not in stopwords):\n",
    "        x.append(word)\n",
    "        y.append(count)\n",
    "\n",
    "sns.barplot(x=y, y=x)"
   ]
  },
  {
   "cell_type": "markdown",
   "id": "58dd8f94",
   "metadata": {
    "papermill": {
     "duration": 0.006573,
     "end_time": "2023-11-13T00:15:15.931648",
     "exception": false,
     "start_time": "2023-11-13T00:15:15.925075",
     "status": "completed"
    },
    "tags": []
   },
   "source": [
    "<font size =\"3\">Upon creating the height bar plot, we can make some observations about the most and least common height values. The top three most common heights are 6-3, 6-4, and 6-5, respectively, while the bottom three least common heights are 6-9, 5-6, and 5-7.</font>\n",
    "\n",
    "<font size =\"3\">"
   ]
  },
  {
   "cell_type": "code",
   "execution_count": 6,
   "id": "48f38a91",
   "metadata": {
    "execution": {
     "iopub.execute_input": "2023-11-13T00:15:15.948103Z",
     "iopub.status.busy": "2023-11-13T00:15:15.947190Z",
     "iopub.status.idle": "2023-11-13T00:15:16.469168Z",
     "shell.execute_reply": "2023-11-13T00:15:16.467616Z"
    },
    "papermill": {
     "duration": 0.532734,
     "end_time": "2023-11-13T00:15:16.471875",
     "exception": false,
     "start_time": "2023-11-13T00:15:15.939141",
     "status": "completed"
    },
    "tags": []
   },
   "outputs": [
    {
     "data": {
      "text/plain": [
       "<Axes: >"
      ]
     },
     "execution_count": 6,
     "metadata": {},
     "output_type": "execute_result"
    },
    {
     "data": {
      "image/png": "[encoded data removed]",
      "text/plain": [
       "<Figure size 640x480 with 1 Axes>"
      ]
     },
     "metadata": {},
     "output_type": "display_data"
    }
   ],
   "source": [
    "colleges = players['collegeName'].str.findall(r'\\b\\w+\\s\\w+\\b')\n",
    "colleges = colleges.tolist()\n",
    "collegesGathered=[word for i in colleges for word in i]\n",
    "\n",
    "collegeCounter=Counter(collegesGathered)\n",
    "collegeMost=collegeCounter.most_common()\n",
    "\n",
    "x, y = [], []\n",
    "for word, count in collegeMost[:25]:\n",
    "    if (word not in stopwords):\n",
    "        x.append(word)\n",
    "        y.append(count)\n",
    "\n",
    "sns.barplot(x=y, y=x)"
   ]
  },
  {
   "cell_type": "code",
   "execution_count": 7,
   "id": "7dab70ae",
   "metadata": {
    "execution": {
     "iopub.execute_input": "2023-11-13T00:15:16.490126Z",
     "iopub.status.busy": "2023-11-13T00:15:16.489702Z",
     "iopub.status.idle": "2023-11-13T00:15:17.018065Z",
     "shell.execute_reply": "2023-11-13T00:15:17.016604Z"
    },
    "papermill": {
     "duration": 0.541028,
     "end_time": "2023-11-13T00:15:17.020984",
     "exception": false,
     "start_time": "2023-11-13T00:15:16.479956",
     "status": "completed"
    },
    "tags": []
   },
   "outputs": [
    {
     "data": {
      "text/plain": [
       "<Axes: >"
      ]
     },
     "execution_count": 7,
     "metadata": {},
     "output_type": "execute_result"
    },
    {
     "data": {
      "image/png": "[encoded data removed]",
      "text/plain": [
       "<Figure size 640x480 with 1 Axes>"
      ]
     },
     "metadata": {},
     "output_type": "display_data"
    }
   ],
   "source": [
    "positions = players['position'].str.split()\n",
    "positions = positions.tolist()\n",
    "positionsGathered=[word for i in positions for word in i]\n",
    "\n",
    "positionCounter=Counter(positionsGathered)\n",
    "positionMost=positionCounter.most_common()\n",
    "\n",
    "x, y = [], []\n",
    "for word, count in positionMost:\n",
    "    if (word not in stopwords):\n",
    "        x.append(word)\n",
    "        y.append(count)\n",
    "\n",
    "sns.barplot(x=y, y=x)"
   ]
  }
 ],
 "metadata": {
  "kaggle": {
   "accelerator": "none",
   "dataSources": [],
   "dockerImageVersionId": 30579,
   "isGpuEnabled": false,
   "isInternetEnabled": true,
   "language": "python",
   "sourceType": "notebook"
  },
  "kernelspec": {
   "display_name": "Python 3",
   "language": "python",
   "name": "python3"
  },
  "language_info": {
   "codemirror_mode": {
    "name": "ipython",
    "version": 3
   },
   "file_extension": ".py",
   "mimetype": "text/x-python",
   "name": "python",
   "nbconvert_exporter": "python",
   "pygments_lexer": "ipython3",
   "version": "3.10.12"
  },
  "papermill": {
   "default_parameters": {},
   "duration": 9.605014,
   "end_time": "2023-11-13T00:15:17.752677",
   "environment_variables": {},
   "exception": null,
   "input_path": "__notebook__.ipynb",
   "output_path": "__notebook__.ipynb",
   "parameters": {},
   "start_time": "2023-11-13T00:15:08.147663",
   "version": "2.4.0"
  },
  "vscode": {
   "interpreter": {
    "hash": "bb3398f4b21c7b026dd5874af3f954bf25f1e8ff81e25d82a94abcbbaacf760b"
   }
  }
 },
 "nbformat": 4,
 "nbformat_minor": 5
}
