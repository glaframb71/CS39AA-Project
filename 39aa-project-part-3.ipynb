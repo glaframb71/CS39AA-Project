{
 "cells": [
  {
   "cell_type": "markdown",
   "id": "db227da4",
   "metadata": {
    "_cell_guid": "b1076dfc-b9ad-4769-8c92-a6c4dae69d19",
    "_uuid": "8f2839f25d086af736a60e9eeb907d3b93b6e0e5",
    "papermill": {
     "duration": 0.00369,
     "end_time": "2023-11-30T18:20:23.280627",
     "exception": false,
     "start_time": "2023-11-30T18:20:23.276937",
     "status": "completed"
    },
    "tags": []
   },
   "source": [
    "# 39AA Project Part 3\n",
    "[![Kaggle](https://kaggle.com/static/images/open-in-kaggle.svg)](https://kaggle.com/kernels/welcome?src=https://github.com/glaframb71/CS39AA-Project/blob/main/39aa-project-part-2.ipynb)"
   ]
  },
  {
   "cell_type": "markdown",
   "id": "13af8428",
   "metadata": {
    "papermill": {
     "duration": 0.002531,
     "end_time": "2023-11-30T18:20:23.288181",
     "exception": false,
     "start_time": "2023-11-30T18:20:23.285650",
     "status": "completed"
    },
    "tags": []
   },
   "source": [
    "<font size='3'>Welcome to the third and final part of my 39AA Project! In the last two parts, we imported a data set of NFL players from the 2022 season that included their 'nflId', 'height', 'weight', 'birthDate', 'collegeName', 'position', and 'displayName'. With that data set, I decided I wanted to try and train some models to predict and athletes NFL position based of their 'height', 'weight', and 'collegeName'. Exploratory Data Analysis was then performed to get a visual representation of the data we had to work with and to better understand the structure of the set. We then moved on to train a RandomForestClassifier ML model with the data to see how well it would perform. In Part 3, we will be doing similar work that was done in Part 2 but this time we will be attempting to train an exisiting deep learning model. Let's go ahead and get started shall we?</font>"
   ]
  },
  {
   "cell_type": "markdown",
   "id": "6edc004e",
   "metadata": {
    "papermill": {
     "duration": 0.00232,
     "end_time": "2023-11-30T18:20:23.293056",
     "exception": false,
     "start_time": "2023-11-30T18:20:23.290736",
     "status": "completed"
    },
    "tags": []
   },
   "source": [
    "<font size='3'>Let's start by importing the neccesary libraries that are needed to complete this task.</font>"
   ]
  },
  {
   "cell_type": "code",
   "execution_count": 1,
   "id": "4f38cde0",
   "metadata": {
    "execution": {
     "iopub.execute_input": "2023-11-30T18:20:23.300150Z",
     "iopub.status.busy": "2023-11-30T18:20:23.299732Z",
     "iopub.status.idle": "2023-11-30T18:20:25.072600Z",
     "shell.execute_reply": "2023-11-30T18:20:25.070584Z"
    },
    "papermill": {
     "duration": 1.779791,
     "end_time": "2023-11-30T18:20:25.075346",
     "exception": false,
     "start_time": "2023-11-30T18:20:23.295555",
     "status": "completed"
    },
    "tags": []
   },
   "outputs": [],
   "source": [
    "import numpy as np\n",
    "import pandas as pd\n",
    "from sklearn.model_selection import train_test_split"
   ]
  },
  {
   "cell_type": "markdown",
   "id": "30bd0084",
   "metadata": {
    "papermill": {
     "duration": 0.002977,
     "end_time": "2023-11-30T18:20:25.082112",
     "exception": false,
     "start_time": "2023-11-30T18:20:25.079135",
     "status": "completed"
    },
    "tags": []
   },
   "source": [
    "<font size='3'>Now let's import our dataset.</font>"
   ]
  },
  {
   "cell_type": "code",
   "execution_count": 2,
   "id": "503fe725",
   "metadata": {
    "execution": {
     "iopub.execute_input": "2023-11-30T18:20:25.090592Z",
     "iopub.status.busy": "2023-11-30T18:20:25.089538Z",
     "iopub.status.idle": "2023-11-30T18:20:25.361675Z",
     "shell.execute_reply": "2023-11-30T18:20:25.360688Z"
    },
    "papermill": {
     "duration": 0.278993,
     "end_time": "2023-11-30T18:20:25.364039",
     "exception": false,
     "start_time": "2023-11-30T18:20:25.085046",
     "status": "completed"
    },
    "tags": []
   },
   "outputs": [
    {
     "data": {
      "text/html": [
       "<div>\n",
       "<style scoped>\n",
       "    .dataframe tbody tr th:only-of-type {\n",
       "        vertical-align: middle;\n",
       "    }\n",
       "\n",
       "    .dataframe tbody tr th {\n",
       "        vertical-align: top;\n",
       "    }\n",
       "\n",
       "    .dataframe thead th {\n",
       "        text-align: right;\n",
       "    }\n",
       "</style>\n",
       "<table border=\"1\" class=\"dataframe\">\n",
       "  <thead>\n",
       "    <tr style=\"text-align: right;\">\n",
       "      <th></th>\n",
       "      <th>nflId</th>\n",
       "      <th>height</th>\n",
       "      <th>weight</th>\n",
       "      <th>birthDate</th>\n",
       "      <th>collegeName</th>\n",
       "      <th>position</th>\n",
       "      <th>displayName</th>\n",
       "    </tr>\n",
       "  </thead>\n",
       "  <tbody>\n",
       "    <tr>\n",
       "      <th>0</th>\n",
       "      <td>25511</td>\n",
       "      <td>6-4</td>\n",
       "      <td>225</td>\n",
       "      <td>1977-08-03</td>\n",
       "      <td>Michigan</td>\n",
       "      <td>QB</td>\n",
       "      <td>Tom Brady</td>\n",
       "    </tr>\n",
       "    <tr>\n",
       "      <th>1</th>\n",
       "      <td>29550</td>\n",
       "      <td>6-4</td>\n",
       "      <td>328</td>\n",
       "      <td>1982-01-22</td>\n",
       "      <td>Arkansas</td>\n",
       "      <td>T</td>\n",
       "      <td>Jason Peters</td>\n",
       "    </tr>\n",
       "    <tr>\n",
       "      <th>2</th>\n",
       "      <td>29851</td>\n",
       "      <td>6-2</td>\n",
       "      <td>225</td>\n",
       "      <td>1983-12-02</td>\n",
       "      <td>California</td>\n",
       "      <td>QB</td>\n",
       "      <td>Aaron Rodgers</td>\n",
       "    </tr>\n",
       "    <tr>\n",
       "      <th>3</th>\n",
       "      <td>30842</td>\n",
       "      <td>6-6</td>\n",
       "      <td>267</td>\n",
       "      <td>1984-05-19</td>\n",
       "      <td>UCLA</td>\n",
       "      <td>TE</td>\n",
       "      <td>Marcedes Lewis</td>\n",
       "    </tr>\n",
       "    <tr>\n",
       "      <th>4</th>\n",
       "      <td>33084</td>\n",
       "      <td>6-4</td>\n",
       "      <td>217</td>\n",
       "      <td>1985-05-17</td>\n",
       "      <td>Boston College</td>\n",
       "      <td>QB</td>\n",
       "      <td>Matt Ryan</td>\n",
       "    </tr>\n",
       "  </tbody>\n",
       "</table>\n",
       "</div>"
      ],
      "text/plain": [
       "   nflId height  weight   birthDate     collegeName position     displayName\n",
       "0  25511    6-4     225  1977-08-03        Michigan       QB       Tom Brady\n",
       "1  29550    6-4     328  1982-01-22        Arkansas        T    Jason Peters\n",
       "2  29851    6-2     225  1983-12-02      California       QB   Aaron Rodgers\n",
       "3  30842    6-6     267  1984-05-19            UCLA       TE  Marcedes Lewis\n",
       "4  33084    6-4     217  1985-05-17  Boston College       QB       Matt Ryan"
      ]
     },
     "execution_count": 2,
     "metadata": {},
     "output_type": "execute_result"
    }
   ],
   "source": [
    "playersDataUrl = \"https://raw.githubusercontent.com/glaframb71/CS39AA-Project/main/data/players.csv\"\n",
    "playersData = pd.read_csv(playersDataUrl)\n",
    "\n",
    "playersData.head()"
   ]
  },
  {
   "cell_type": "markdown",
   "id": "d64f054b",
   "metadata": {
    "papermill": {
     "duration": 0.002566,
     "end_time": "2023-11-30T18:20:25.369756",
     "exception": false,
     "start_time": "2023-11-30T18:20:25.367190",
     "status": "completed"
    },
    "tags": []
   },
   "source": [
    "<font size='3'>The dataset has been successfully imported! Let's clean it up and filter out the players we had filtered out in Part 2.</font>"
   ]
  },
  {
   "cell_type": "code",
   "execution_count": 3,
   "id": "c61bf1da",
   "metadata": {
    "execution": {
     "iopub.execute_input": "2023-11-30T18:20:25.378584Z",
     "iopub.status.busy": "2023-11-30T18:20:25.376820Z",
     "iopub.status.idle": "2023-11-30T18:20:25.409032Z",
     "shell.execute_reply": "2023-11-30T18:20:25.407893Z"
    },
    "papermill": {
     "duration": 0.039479,
     "end_time": "2023-11-30T18:20:25.412020",
     "exception": false,
     "start_time": "2023-11-30T18:20:25.372541",
     "status": "completed"
    },
    "tags": []
   },
   "outputs": [
    {
     "data": {
      "text/html": [
       "<div>\n",
       "<style scoped>\n",
       "    .dataframe tbody tr th:only-of-type {\n",
       "        vertical-align: middle;\n",
       "    }\n",
       "\n",
       "    .dataframe tbody tr th {\n",
       "        vertical-align: top;\n",
       "    }\n",
       "\n",
       "    .dataframe thead th {\n",
       "        text-align: right;\n",
       "    }\n",
       "</style>\n",
       "<table border=\"1\" class=\"dataframe\">\n",
       "  <thead>\n",
       "    <tr style=\"text-align: right;\">\n",
       "      <th></th>\n",
       "      <th>height_inches</th>\n",
       "      <th>weight</th>\n",
       "      <th>collegeName</th>\n",
       "      <th>position</th>\n",
       "    </tr>\n",
       "  </thead>\n",
       "  <tbody>\n",
       "    <tr>\n",
       "      <th>0</th>\n",
       "      <td>76</td>\n",
       "      <td>225</td>\n",
       "      <td>Michigan</td>\n",
       "      <td>QB</td>\n",
       "    </tr>\n",
       "    <tr>\n",
       "      <th>1</th>\n",
       "      <td>76</td>\n",
       "      <td>328</td>\n",
       "      <td>Arkansas</td>\n",
       "      <td>T</td>\n",
       "    </tr>\n",
       "    <tr>\n",
       "      <th>2</th>\n",
       "      <td>74</td>\n",
       "      <td>225</td>\n",
       "      <td>California</td>\n",
       "      <td>QB</td>\n",
       "    </tr>\n",
       "    <tr>\n",
       "      <th>3</th>\n",
       "      <td>78</td>\n",
       "      <td>267</td>\n",
       "      <td>UCLA</td>\n",
       "      <td>TE</td>\n",
       "    </tr>\n",
       "    <tr>\n",
       "      <th>4</th>\n",
       "      <td>76</td>\n",
       "      <td>217</td>\n",
       "      <td>Boston College</td>\n",
       "      <td>QB</td>\n",
       "    </tr>\n",
       "  </tbody>\n",
       "</table>\n",
       "</div>"
      ],
      "text/plain": [
       "   height_inches  weight     collegeName position\n",
       "0             76     225        Michigan       QB\n",
       "1             76     328        Arkansas        T\n",
       "2             74     225      California       QB\n",
       "3             78     267            UCLA       TE\n",
       "4             76     217  Boston College       QB"
      ]
     },
     "execution_count": 3,
     "metadata": {},
     "output_type": "execute_result"
    }
   ],
   "source": [
    "playersData = playersData.copy()\n",
    "playersData.loc[:, 'height_inches'] = playersData['height'].apply(lambda x: int(x.split('-')[0]) * 12 + int(x.split('-')[1]))\n",
    "height_index = playersData.columns.get_loc('height')\n",
    "playersData.insert(height_index + 1, \"height_inches\", playersData.pop(\"height_inches\"))\n",
    "players = playersData[['height_inches', 'weight','collegeName', 'position']]\n",
    "\n",
    "positions_to_drop = ['DB', 'LS']\n",
    "filtered_players = players[~players['position'].isin(positions_to_drop)]\n",
    "\n",
    "filtered_players.head()"
   ]
  },
  {
   "cell_type": "markdown",
   "id": "9e576b40",
   "metadata": {
    "papermill": {
     "duration": 0.004081,
     "end_time": "2023-11-30T18:20:25.420053",
     "exception": false,
     "start_time": "2023-11-30T18:20:25.415972",
     "status": "completed"
    },
    "tags": []
   },
   "source": [
    "<font size='3'>We have our cleaned up set with the collumns 'height_inches', 'weight', 'collegeName', and 'position' that represent NFL players. Now lets split this set up into our X and y data set.</font>"
   ]
  },
  {
   "cell_type": "markdown",
   "id": "67191d83",
   "metadata": {
    "execution": {
     "iopub.execute_input": "2023-11-30T15:58:50.488431Z",
     "iopub.status.busy": "2023-11-30T15:58:50.488044Z",
     "iopub.status.idle": "2023-11-30T15:58:50.511203Z",
     "shell.execute_reply": "2023-11-30T15:58:50.509927Z",
     "shell.execute_reply.started": "2023-11-30T15:58:50.488401Z"
    },
    "papermill": {
     "duration": 0.003033,
     "end_time": "2023-11-30T18:20:25.426845",
     "exception": false,
     "start_time": "2023-11-30T18:20:25.423812",
     "status": "completed"
    },
    "tags": []
   },
   "source": [
    "X = filtered_players.drop('position', axis=1)\n",
    "y = filtered_players['position']\n",
    "X_train, X_val, y_train, y_val = train_test_split(X, y, test_size=0.2, random_state=10)\n",
    "\n",
    "X_train_encoded = pd.get_dummies(X_train, columns=['collegeName'])\n",
    "\n",
    "encoded_columns = X_train_encoded.columns\n",
    "\n",
    "X_val_encoded = pd.get_dummies(X_val, columns=['collegeName'])\n",
    "\n",
    "missing_cols = set(X_train_encoded.columns) - set(X_val_encoded.columns)\n",
    "\n",
    "missing_cols_df = pd.DataFrame(False, index=X_val_encoded.index, columns=list(missing_cols))\n",
    "\n",
    "X_val_encoded = pd.concat([X_val_encoded, missing_cols_df], axis=1)\n",
    "\n",
    "X_val_encoded = X_val_encoded[encoded_columns]"
   ]
  },
  {
   "cell_type": "code",
   "execution_count": 4,
   "id": "ce979df4",
   "metadata": {
    "execution": {
     "iopub.execute_input": "2023-11-30T18:20:25.435694Z",
     "iopub.status.busy": "2023-11-30T18:20:25.435264Z",
     "iopub.status.idle": "2023-11-30T18:20:47.322120Z",
     "shell.execute_reply": "2023-11-30T18:20:47.320424Z"
    },
    "papermill": {
     "duration": 21.893925,
     "end_time": "2023-11-30T18:20:47.324097",
     "exception": false,
     "start_time": "2023-11-30T18:20:25.430172",
     "status": "completed"
    },
    "tags": []
   },
   "outputs": [
    {
     "name": "stdout",
     "output_type": "stream",
     "text": [
      "Epoch 1/50\n",
      "38/38 [==============================] - 1s 10ms/step - loss: 2.7632 - accuracy: 0.1538 - val_loss: 2.6664 - val_accuracy: 0.2889\n",
      "Epoch 2/50\n",
      "38/38 [==============================] - 0s 3ms/step - loss: 2.5093 - accuracy: 0.2564 - val_loss: 2.3726 - val_accuracy: 0.2889\n",
      "Epoch 3/50\n",
      "38/38 [==============================] - 0s 3ms/step - loss: 2.1854 - accuracy: 0.2713 - val_loss: 2.0946 - val_accuracy: 0.3852\n",
      "Epoch 4/50\n",
      "38/38 [==============================] - 0s 4ms/step - loss: 1.9518 - accuracy: 0.3449 - val_loss: 1.9275 - val_accuracy: 0.4000\n",
      "Epoch 5/50\n",
      "38/38 [==============================] - 0s 3ms/step - loss: 1.7844 - accuracy: 0.3863 - val_loss: 1.8047 - val_accuracy: 0.3926\n",
      "Epoch 6/50\n",
      "38/38 [==============================] - 0s 3ms/step - loss: 1.6649 - accuracy: 0.4400 - val_loss: 1.7261 - val_accuracy: 0.4222\n",
      "Epoch 7/50\n",
      "38/38 [==============================] - 0s 3ms/step - loss: 1.5698 - accuracy: 0.4599 - val_loss: 1.6655 - val_accuracy: 0.4222\n",
      "Epoch 8/50\n",
      "38/38 [==============================] - 0s 4ms/step - loss: 1.4889 - accuracy: 0.4880 - val_loss: 1.6387 - val_accuracy: 0.4148\n",
      "Epoch 9/50\n",
      "38/38 [==============================] - 0s 3ms/step - loss: 1.4203 - accuracy: 0.5112 - val_loss: 1.6137 - val_accuracy: 0.4000\n",
      "Epoch 10/50\n",
      "38/38 [==============================] - 0s 3ms/step - loss: 1.3617 - accuracy: 0.5227 - val_loss: 1.5822 - val_accuracy: 0.4444\n",
      "Epoch 11/50\n",
      "38/38 [==============================] - 0s 3ms/step - loss: 1.3099 - accuracy: 0.5393 - val_loss: 1.5593 - val_accuracy: 0.4222\n",
      "Epoch 12/50\n",
      "38/38 [==============================] - 0s 3ms/step - loss: 1.2635 - accuracy: 0.5567 - val_loss: 1.5698 - val_accuracy: 0.4222\n",
      "Epoch 13/50\n",
      "38/38 [==============================] - 0s 3ms/step - loss: 1.2242 - accuracy: 0.5600 - val_loss: 1.5598 - val_accuracy: 0.4074\n",
      "Epoch 14/50\n",
      "38/38 [==============================] - 0s 3ms/step - loss: 1.1863 - accuracy: 0.5765 - val_loss: 1.5712 - val_accuracy: 0.3704\n",
      "Epoch 15/50\n",
      "38/38 [==============================] - 0s 3ms/step - loss: 1.1525 - accuracy: 0.5806 - val_loss: 1.5851 - val_accuracy: 0.3926\n",
      "Epoch 16/50\n",
      "38/38 [==============================] - 0s 3ms/step - loss: 1.1221 - accuracy: 0.5922 - val_loss: 1.5752 - val_accuracy: 0.3926\n",
      "Epoch 17/50\n",
      "38/38 [==============================] - 0s 3ms/step - loss: 1.0906 - accuracy: 0.6038 - val_loss: 1.5824 - val_accuracy: 0.4074\n",
      "Epoch 18/50\n",
      "38/38 [==============================] - 0s 4ms/step - loss: 1.0666 - accuracy: 0.6096 - val_loss: 1.5923 - val_accuracy: 0.3704\n",
      "Epoch 19/50\n",
      "38/38 [==============================] - 0s 3ms/step - loss: 1.0414 - accuracy: 0.6203 - val_loss: 1.5937 - val_accuracy: 0.3852\n",
      "Epoch 20/50\n",
      "38/38 [==============================] - 0s 3ms/step - loss: 1.0233 - accuracy: 0.6319 - val_loss: 1.6016 - val_accuracy: 0.3926\n",
      "Epoch 21/50\n",
      "38/38 [==============================] - 0s 3ms/step - loss: 1.0006 - accuracy: 0.6385 - val_loss: 1.6102 - val_accuracy: 0.3704\n",
      "Epoch 22/50\n",
      "38/38 [==============================] - 0s 4ms/step - loss: 0.9765 - accuracy: 0.6584 - val_loss: 1.6281 - val_accuracy: 0.3778\n",
      "Epoch 23/50\n",
      "38/38 [==============================] - 0s 4ms/step - loss: 0.9556 - accuracy: 0.6625 - val_loss: 1.6512 - val_accuracy: 0.3333\n",
      "Epoch 24/50\n",
      "38/38 [==============================] - 0s 3ms/step - loss: 0.9393 - accuracy: 0.6609 - val_loss: 1.6556 - val_accuracy: 0.3407\n",
      "Epoch 25/50\n",
      "38/38 [==============================] - 0s 3ms/step - loss: 0.9260 - accuracy: 0.6708 - val_loss: 1.6623 - val_accuracy: 0.3852\n",
      "Epoch 26/50\n",
      "38/38 [==============================] - 0s 3ms/step - loss: 0.9035 - accuracy: 0.6816 - val_loss: 1.6785 - val_accuracy: 0.3630\n",
      "Epoch 27/50\n",
      "38/38 [==============================] - 0s 3ms/step - loss: 0.8870 - accuracy: 0.6956 - val_loss: 1.6736 - val_accuracy: 0.3704\n",
      "Epoch 28/50\n",
      "38/38 [==============================] - 0s 3ms/step - loss: 0.8708 - accuracy: 0.6807 - val_loss: 1.7093 - val_accuracy: 0.3630\n",
      "Epoch 29/50\n",
      "38/38 [==============================] - 0s 4ms/step - loss: 0.8633 - accuracy: 0.6981 - val_loss: 1.7105 - val_accuracy: 0.3926\n",
      "Epoch 30/50\n",
      "38/38 [==============================] - 0s 4ms/step - loss: 0.8529 - accuracy: 0.6973 - val_loss: 1.7582 - val_accuracy: 0.3556\n",
      "Epoch 31/50\n",
      "38/38 [==============================] - 0s 3ms/step - loss: 0.8375 - accuracy: 0.7064 - val_loss: 1.7294 - val_accuracy: 0.3704\n",
      "Epoch 32/50\n",
      "38/38 [==============================] - 0s 4ms/step - loss: 0.8203 - accuracy: 0.7122 - val_loss: 1.7541 - val_accuracy: 0.3333\n",
      "Epoch 33/50\n",
      "38/38 [==============================] - 0s 3ms/step - loss: 0.8189 - accuracy: 0.7089 - val_loss: 1.7501 - val_accuracy: 0.3630\n",
      "Epoch 34/50\n",
      "38/38 [==============================] - 0s 4ms/step - loss: 0.8086 - accuracy: 0.7006 - val_loss: 1.7745 - val_accuracy: 0.3630\n",
      "Epoch 35/50\n",
      "38/38 [==============================] - 0s 4ms/step - loss: 0.7900 - accuracy: 0.7188 - val_loss: 1.7881 - val_accuracy: 0.3630\n",
      "Epoch 36/50\n",
      "38/38 [==============================] - 0s 4ms/step - loss: 0.7854 - accuracy: 0.7138 - val_loss: 1.7932 - val_accuracy: 0.3259\n",
      "Epoch 37/50\n",
      "38/38 [==============================] - 0s 4ms/step - loss: 0.7702 - accuracy: 0.7254 - val_loss: 1.8167 - val_accuracy: 0.3630\n",
      "Epoch 38/50\n",
      "38/38 [==============================] - 0s 4ms/step - loss: 0.7574 - accuracy: 0.7262 - val_loss: 1.8549 - val_accuracy: 0.3778\n",
      "Epoch 39/50\n",
      "38/38 [==============================] - 0s 4ms/step - loss: 0.7555 - accuracy: 0.7196 - val_loss: 1.8492 - val_accuracy: 0.3704\n",
      "Epoch 40/50\n",
      "38/38 [==============================] - 0s 4ms/step - loss: 0.7424 - accuracy: 0.7237 - val_loss: 1.8400 - val_accuracy: 0.3852\n",
      "Epoch 41/50\n",
      "38/38 [==============================] - 0s 4ms/step - loss: 0.7349 - accuracy: 0.7419 - val_loss: 1.8570 - val_accuracy: 0.3630\n",
      "Epoch 42/50\n",
      "38/38 [==============================] - 0s 3ms/step - loss: 0.7268 - accuracy: 0.7361 - val_loss: 1.8534 - val_accuracy: 0.3630\n",
      "Epoch 43/50\n",
      "38/38 [==============================] - 0s 3ms/step - loss: 0.7238 - accuracy: 0.7428 - val_loss: 1.8830 - val_accuracy: 0.3556\n",
      "Epoch 44/50\n",
      "38/38 [==============================] - 0s 3ms/step - loss: 0.7169 - accuracy: 0.7378 - val_loss: 1.8601 - val_accuracy: 0.3704\n",
      "Epoch 45/50\n",
      "38/38 [==============================] - 0s 3ms/step - loss: 0.7082 - accuracy: 0.7469 - val_loss: 1.9060 - val_accuracy: 0.3407\n",
      "Epoch 46/50\n",
      "38/38 [==============================] - 0s 4ms/step - loss: 0.7025 - accuracy: 0.7403 - val_loss: 1.9047 - val_accuracy: 0.3852\n",
      "Epoch 47/50\n",
      "38/38 [==============================] - 0s 3ms/step - loss: 0.6949 - accuracy: 0.7461 - val_loss: 1.9190 - val_accuracy: 0.3556\n",
      "Epoch 48/50\n",
      "38/38 [==============================] - 0s 3ms/step - loss: 0.6864 - accuracy: 0.7610 - val_loss: 1.9224 - val_accuracy: 0.3630\n",
      "Epoch 49/50\n",
      "38/38 [==============================] - 0s 3ms/step - loss: 0.6837 - accuracy: 0.7494 - val_loss: 1.9260 - val_accuracy: 0.3630\n",
      "Epoch 50/50\n",
      "38/38 [==============================] - 0s 4ms/step - loss: 0.6787 - accuracy: 0.7436 - val_loss: 1.9516 - val_accuracy: 0.3778\n",
      "11/11 [==============================] - 0s 2ms/step - loss: 1.9452 - accuracy: 0.3739\n",
      "Test accuracy: 0.37388724088668823\n"
     ]
    }
   ],
   "source": [
    "import pandas as pd\n",
    "from keras.models import Sequential\n",
    "from keras.layers import Dense\n",
    "from sklearn.preprocessing import StandardScaler, OneHotEncoder\n",
    "from sklearn.compose import ColumnTransformer\n",
    "from sklearn.model_selection import train_test_split\n",
    "\n",
    "# Assuming df is your DataFrame with the player data\n",
    "X = filtered_players[['height_inches', 'weight', 'collegeName']]\n",
    "y = filtered_players['position']\n",
    "\n",
    "# Preprocess the data\n",
    "column_transformer = ColumnTransformer([\n",
    "    ('num', StandardScaler(), ['height_inches', 'weight']),\n",
    "    ('cat', OneHotEncoder(sparse_output=False), ['collegeName'])  # Use sparse_output=False\n",
    "], remainder='passthrough')\n",
    "\n",
    "X = column_transformer.fit_transform(X)\n",
    "y = OneHotEncoder(sparse_output=False).fit_transform(y.to_frame())  # Use sparse_output=False\n",
    "\n",
    "# Split the data\n",
    "X_train, X_test, y_train, y_test = train_test_split(X, y, test_size=0.2, random_state=42)\n",
    "\n",
    "# Build the model\n",
    "model = Sequential()\n",
    "model.add(Dense(64, input_dim=X_train.shape[1], activation='relu'))\n",
    "model.add(Dense(32, activation='relu'))\n",
    "model.add(Dense(y_train.shape[1], activation='softmax'))  # Output layer\n",
    "\n",
    "# Compile the model\n",
    "model.compile(loss='categorical_crossentropy', optimizer='adam', metrics=['accuracy'])\n",
    "\n",
    "# Train the model\n",
    "model.fit(X_train, y_train, epochs=50, batch_size=32, validation_split=0.1)\n",
    "\n",
    "# Evaluate the model\n",
    "loss, accuracy = model.evaluate(X_test, y_test)\n",
    "print(f'Test accuracy: {accuracy}')\n"
   ]
  }
 ],
 "metadata": {
  "kaggle": {
   "accelerator": "none",
   "dataSources": [],
   "dockerImageVersionId": 30587,
   "isGpuEnabled": false,
   "isInternetEnabled": true,
   "language": "python",
   "sourceType": "notebook"
  },
  "kernelspec": {
   "display_name": "Python 3",
   "language": "python",
   "name": "python3"
  },
  "language_info": {
   "codemirror_mode": {
    "name": "ipython",
    "version": 3
   },
   "file_extension": ".py",
   "mimetype": "text/x-python",
   "name": "python",
   "nbconvert_exporter": "python",
   "pygments_lexer": "ipython3",
   "version": "3.10.12"
  },
  "papermill": {
   "default_parameters": {},
   "duration": 29.326343,
   "end_time": "2023-11-30T18:20:49.734903",
   "environment_variables": {},
   "exception": null,
   "input_path": "__notebook__.ipynb",
   "output_path": "__notebook__.ipynb",
   "parameters": {},
   "start_time": "2023-11-30T18:20:20.408560",
   "version": "2.4.0"
  }
 },
 "nbformat": 4,
 "nbformat_minor": 5
}
