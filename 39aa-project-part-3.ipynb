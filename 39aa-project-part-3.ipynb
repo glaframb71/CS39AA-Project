{
 "cells": [
  {
   "cell_type": "markdown",
   "id": "e0be8003",
   "metadata": {
    "_cell_guid": "b1076dfc-b9ad-4769-8c92-a6c4dae69d19",
    "_uuid": "8f2839f25d086af736a60e9eeb907d3b93b6e0e5",
    "papermill": {
     "duration": 0.004553,
     "end_time": "2023-11-30T16:04:18.836031",
     "exception": false,
     "start_time": "2023-11-30T16:04:18.831478",
     "status": "completed"
    },
    "tags": []
   },
   "source": [
    "# 39AA Project Part 3\n",
    "[![Kaggle](https://kaggle.com/static/images/open-in-kaggle.svg)](https://kaggle.com/kernels/welcome?src=https://github.com/glaframb71/CS39AA-Project/blob/main/39aa-project-part-2.ipynb)"
   ]
  },
  {
   "cell_type": "markdown",
   "id": "9c1dffde",
   "metadata": {
    "papermill": {
     "duration": 0.005779,
     "end_time": "2023-11-30T16:04:18.846469",
     "exception": false,
     "start_time": "2023-11-30T16:04:18.840690",
     "status": "completed"
    },
    "tags": []
   },
   "source": [
    "<font size='3'>Welcome to the third and final part of my 39AA Project! In the last two parts, we imported a data set of NFL players from the 2022 season that included their 'nflId', 'height', 'weight', 'birthDate', 'collegeName', 'position', and 'displayName'. With that data set, I decided I wanted to try and train some models to predict and athletes NFL position based of their 'height', 'weight', and 'collegeName'. Exploratory Data Analysis was then performed to get a visual representation of the data we had to work with and to better understand the structure of the set. We then moved on to train a RandomForestClassifier ML model with the data to see how well it would perform. In Part 3, we will be doing similar work that was done in Part 2 but this time we will be attempting to train an exisiting deep learning model. Let's go ahead and get started shall we?</font>"
   ]
  },
  {
   "cell_type": "markdown",
   "id": "19bfdbee",
   "metadata": {
    "papermill": {
     "duration": 0.003619,
     "end_time": "2023-11-30T16:04:18.854542",
     "exception": false,
     "start_time": "2023-11-30T16:04:18.850923",
     "status": "completed"
    },
    "tags": []
   },
   "source": [
    "<font size='3'>Let's start by importing the neccesary libraries that are needed to complete this task.</font>"
   ]
  },
  {
   "cell_type": "code",
   "execution_count": 1,
   "id": "32a61aa7",
   "metadata": {
    "execution": {
     "iopub.execute_input": "2023-11-30T16:04:18.864917Z",
     "iopub.status.busy": "2023-11-30T16:04:18.863871Z",
     "iopub.status.idle": "2023-11-30T16:04:20.900770Z",
     "shell.execute_reply": "2023-11-30T16:04:20.899119Z"
    },
    "papermill": {
     "duration": 2.045828,
     "end_time": "2023-11-30T16:04:20.904320",
     "exception": false,
     "start_time": "2023-11-30T16:04:18.858492",
     "status": "completed"
    },
    "tags": []
   },
   "outputs": [],
   "source": [
    "import numpy as np\n",
    "import pandas as pd\n",
    "from sklearn.model_selection import train_test_split"
   ]
  },
  {
   "cell_type": "markdown",
   "id": "ec9c47f3",
   "metadata": {
    "papermill": {
     "duration": 0.004342,
     "end_time": "2023-11-30T16:04:20.912902",
     "exception": false,
     "start_time": "2023-11-30T16:04:20.908560",
     "status": "completed"
    },
    "tags": []
   },
   "source": [
    "<font size='3'>Now let's import our dataset.</font>"
   ]
  },
  {
   "cell_type": "code",
   "execution_count": 2,
   "id": "279a1723",
   "metadata": {
    "execution": {
     "iopub.execute_input": "2023-11-30T16:04:20.923328Z",
     "iopub.status.busy": "2023-11-30T16:04:20.922659Z",
     "iopub.status.idle": "2023-11-30T16:04:21.208563Z",
     "shell.execute_reply": "2023-11-30T16:04:21.206823Z"
    },
    "papermill": {
     "duration": 0.294457,
     "end_time": "2023-11-30T16:04:21.211439",
     "exception": false,
     "start_time": "2023-11-30T16:04:20.916982",
     "status": "completed"
    },
    "tags": []
   },
   "outputs": [
    {
     "data": {
      "text/html": [
       "<div>\n",
       "<style scoped>\n",
       "    .dataframe tbody tr th:only-of-type {\n",
       "        vertical-align: middle;\n",
       "    }\n",
       "\n",
       "    .dataframe tbody tr th {\n",
       "        vertical-align: top;\n",
       "    }\n",
       "\n",
       "    .dataframe thead th {\n",
       "        text-align: right;\n",
       "    }\n",
       "</style>\n",
       "<table border=\"1\" class=\"dataframe\">\n",
       "  <thead>\n",
       "    <tr style=\"text-align: right;\">\n",
       "      <th></th>\n",
       "      <th>nflId</th>\n",
       "      <th>height</th>\n",
       "      <th>weight</th>\n",
       "      <th>birthDate</th>\n",
       "      <th>collegeName</th>\n",
       "      <th>position</th>\n",
       "      <th>displayName</th>\n",
       "    </tr>\n",
       "  </thead>\n",
       "  <tbody>\n",
       "    <tr>\n",
       "      <th>0</th>\n",
       "      <td>25511</td>\n",
       "      <td>6-4</td>\n",
       "      <td>225</td>\n",
       "      <td>1977-08-03</td>\n",
       "      <td>Michigan</td>\n",
       "      <td>QB</td>\n",
       "      <td>Tom Brady</td>\n",
       "    </tr>\n",
       "    <tr>\n",
       "      <th>1</th>\n",
       "      <td>29550</td>\n",
       "      <td>6-4</td>\n",
       "      <td>328</td>\n",
       "      <td>1982-01-22</td>\n",
       "      <td>Arkansas</td>\n",
       "      <td>T</td>\n",
       "      <td>Jason Peters</td>\n",
       "    </tr>\n",
       "    <tr>\n",
       "      <th>2</th>\n",
       "      <td>29851</td>\n",
       "      <td>6-2</td>\n",
       "      <td>225</td>\n",
       "      <td>1983-12-02</td>\n",
       "      <td>California</td>\n",
       "      <td>QB</td>\n",
       "      <td>Aaron Rodgers</td>\n",
       "    </tr>\n",
       "    <tr>\n",
       "      <th>3</th>\n",
       "      <td>30842</td>\n",
       "      <td>6-6</td>\n",
       "      <td>267</td>\n",
       "      <td>1984-05-19</td>\n",
       "      <td>UCLA</td>\n",
       "      <td>TE</td>\n",
       "      <td>Marcedes Lewis</td>\n",
       "    </tr>\n",
       "    <tr>\n",
       "      <th>4</th>\n",
       "      <td>33084</td>\n",
       "      <td>6-4</td>\n",
       "      <td>217</td>\n",
       "      <td>1985-05-17</td>\n",
       "      <td>Boston College</td>\n",
       "      <td>QB</td>\n",
       "      <td>Matt Ryan</td>\n",
       "    </tr>\n",
       "  </tbody>\n",
       "</table>\n",
       "</div>"
      ],
      "text/plain": [
       "   nflId height  weight   birthDate     collegeName position     displayName\n",
       "0  25511    6-4     225  1977-08-03        Michigan       QB       Tom Brady\n",
       "1  29550    6-4     328  1982-01-22        Arkansas        T    Jason Peters\n",
       "2  29851    6-2     225  1983-12-02      California       QB   Aaron Rodgers\n",
       "3  30842    6-6     267  1984-05-19            UCLA       TE  Marcedes Lewis\n",
       "4  33084    6-4     217  1985-05-17  Boston College       QB       Matt Ryan"
      ]
     },
     "execution_count": 2,
     "metadata": {},
     "output_type": "execute_result"
    }
   ],
   "source": [
    "playersDataUrl = \"https://raw.githubusercontent.com/glaframb71/CS39AA-Project/main/data/players.csv\"\n",
    "playersData = pd.read_csv(playersDataUrl)\n",
    "\n",
    "playersData.head()"
   ]
  },
  {
   "cell_type": "markdown",
   "id": "5c2ff47e",
   "metadata": {
    "papermill": {
     "duration": 0.004111,
     "end_time": "2023-11-30T16:04:21.220149",
     "exception": false,
     "start_time": "2023-11-30T16:04:21.216038",
     "status": "completed"
    },
    "tags": []
   },
   "source": [
    "<font size='3'>The dataset has been successfully imported! Let's clean it up and filter out the players we had filtered out in Part 2.</font>"
   ]
  },
  {
   "cell_type": "code",
   "execution_count": 3,
   "id": "5c1a6cb7",
   "metadata": {
    "execution": {
     "iopub.execute_input": "2023-11-30T16:04:21.231785Z",
     "iopub.status.busy": "2023-11-30T16:04:21.231310Z",
     "iopub.status.idle": "2023-11-30T16:04:21.274889Z",
     "shell.execute_reply": "2023-11-30T16:04:21.273338Z"
    },
    "papermill": {
     "duration": 0.053151,
     "end_time": "2023-11-30T16:04:21.278170",
     "exception": false,
     "start_time": "2023-11-30T16:04:21.225019",
     "status": "completed"
    },
    "tags": []
   },
   "outputs": [
    {
     "data": {
      "text/html": [
       "<div>\n",
       "<style scoped>\n",
       "    .dataframe tbody tr th:only-of-type {\n",
       "        vertical-align: middle;\n",
       "    }\n",
       "\n",
       "    .dataframe tbody tr th {\n",
       "        vertical-align: top;\n",
       "    }\n",
       "\n",
       "    .dataframe thead th {\n",
       "        text-align: right;\n",
       "    }\n",
       "</style>\n",
       "<table border=\"1\" class=\"dataframe\">\n",
       "  <thead>\n",
       "    <tr style=\"text-align: right;\">\n",
       "      <th></th>\n",
       "      <th>height_inches</th>\n",
       "      <th>weight</th>\n",
       "      <th>collegeName</th>\n",
       "      <th>position</th>\n",
       "    </tr>\n",
       "  </thead>\n",
       "  <tbody>\n",
       "    <tr>\n",
       "      <th>0</th>\n",
       "      <td>76</td>\n",
       "      <td>225</td>\n",
       "      <td>Michigan</td>\n",
       "      <td>QB</td>\n",
       "    </tr>\n",
       "    <tr>\n",
       "      <th>1</th>\n",
       "      <td>76</td>\n",
       "      <td>328</td>\n",
       "      <td>Arkansas</td>\n",
       "      <td>T</td>\n",
       "    </tr>\n",
       "    <tr>\n",
       "      <th>2</th>\n",
       "      <td>74</td>\n",
       "      <td>225</td>\n",
       "      <td>California</td>\n",
       "      <td>QB</td>\n",
       "    </tr>\n",
       "    <tr>\n",
       "      <th>3</th>\n",
       "      <td>78</td>\n",
       "      <td>267</td>\n",
       "      <td>UCLA</td>\n",
       "      <td>TE</td>\n",
       "    </tr>\n",
       "    <tr>\n",
       "      <th>4</th>\n",
       "      <td>76</td>\n",
       "      <td>217</td>\n",
       "      <td>Boston College</td>\n",
       "      <td>QB</td>\n",
       "    </tr>\n",
       "  </tbody>\n",
       "</table>\n",
       "</div>"
      ],
      "text/plain": [
       "   height_inches  weight     collegeName position\n",
       "0             76     225        Michigan       QB\n",
       "1             76     328        Arkansas        T\n",
       "2             74     225      California       QB\n",
       "3             78     267            UCLA       TE\n",
       "4             76     217  Boston College       QB"
      ]
     },
     "execution_count": 3,
     "metadata": {},
     "output_type": "execute_result"
    }
   ],
   "source": [
    "playersData = playersData.copy()\n",
    "playersData.loc[:, 'height_inches'] = playersData['height'].apply(lambda x: int(x.split('-')[0]) * 12 + int(x.split('-')[1]))\n",
    "height_index = playersData.columns.get_loc('height')\n",
    "playersData.insert(height_index + 1, \"height_inches\", playersData.pop(\"height_inches\"))\n",
    "players = playersData[['height_inches', 'weight','collegeName', 'position']]\n",
    "\n",
    "positions_to_drop = ['DB', 'LS']\n",
    "filtered_players = players[~players['position'].isin(positions_to_drop)]\n",
    "\n",
    "filtered_players.head()"
   ]
  },
  {
   "cell_type": "markdown",
   "id": "db780af8",
   "metadata": {
    "papermill": {
     "duration": 0.005056,
     "end_time": "2023-11-30T16:04:21.288094",
     "exception": false,
     "start_time": "2023-11-30T16:04:21.283038",
     "status": "completed"
    },
    "tags": []
   },
   "source": [
    "<font size='3'>We have our cleaned up set with the collumns 'height_inches', 'weight', 'collegeName', and 'position' that represent NFL players. Now lets split this set up into our X and y data set.</font>"
   ]
  },
  {
   "cell_type": "code",
   "execution_count": 4,
   "id": "a119c04e",
   "metadata": {
    "execution": {
     "iopub.execute_input": "2023-11-30T16:04:21.299994Z",
     "iopub.status.busy": "2023-11-30T16:04:21.299547Z",
     "iopub.status.idle": "2023-11-30T16:04:21.329066Z",
     "shell.execute_reply": "2023-11-30T16:04:21.327687Z"
    },
    "papermill": {
     "duration": 0.039168,
     "end_time": "2023-11-30T16:04:21.332342",
     "exception": false,
     "start_time": "2023-11-30T16:04:21.293174",
     "status": "completed"
    },
    "tags": []
   },
   "outputs": [],
   "source": [
    "X = filtered_players.drop('position', axis=1)\n",
    "y = filtered_players['position']\n",
    "X_train, X_val, y_train, y_val = train_test_split(X, y, test_size=0.2, random_state=10)\n",
    "\n",
    "X_train_encoded = pd.get_dummies(X_train, columns=['collegeName'])\n",
    "\n",
    "encoded_columns = X_train_encoded.columns\n",
    "\n",
    "X_val_encoded = pd.get_dummies(X_val, columns=['collegeName'])\n",
    "\n",
    "missing_cols = set(X_train_encoded.columns) - set(X_val_encoded.columns)\n",
    "\n",
    "missing_cols_df = pd.DataFrame(False, index=X_val_encoded.index, columns=list(missing_cols))\n",
    "\n",
    "X_val_encoded = pd.concat([X_val_encoded, missing_cols_df], axis=1)\n",
    "\n",
    "X_val_encoded = X_val_encoded[encoded_columns]"
   ]
  }
 ],
 "metadata": {
  "kaggle": {
   "accelerator": "none",
   "dataSources": [],
   "dockerImageVersionId": 30587,
   "isGpuEnabled": false,
   "isInternetEnabled": true,
   "language": "python",
   "sourceType": "notebook"
  },
  "kernelspec": {
   "display_name": "Python 3",
   "language": "python",
   "name": "python3"
  },
  "language_info": {
   "codemirror_mode": {
    "name": "ipython",
    "version": 3
   },
   "file_extension": ".py",
   "mimetype": "text/x-python",
   "name": "python",
   "nbconvert_exporter": "python",
   "pygments_lexer": "ipython3",
   "version": "3.10.12"
  },
  "papermill": {
   "default_parameters": {},
   "duration": 6.906085,
   "end_time": "2023-11-30T16:04:22.060921",
   "environment_variables": {},
   "exception": null,
   "input_path": "__notebook__.ipynb",
   "output_path": "__notebook__.ipynb",
   "parameters": {},
   "start_time": "2023-11-30T16:04:15.154836",
   "version": "2.4.0"
  }
 },
 "nbformat": 4,
 "nbformat_minor": 5
}
